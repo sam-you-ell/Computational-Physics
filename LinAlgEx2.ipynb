{
 "cells": [
  {
   "cell_type": "markdown",
   "metadata": {},
   "source": [
    "# Exercise 2\n",
    "\n",
    "**Remember**\n",
    "   * You are expected to use numpy and scipy libraries where appropriate.  \n",
    "   * You should run each cell in order from the top of the notebook; there is no need to repeat code between cells\n",
    "   * Use the \"refresh kernel\" button to reset everything and start again\n",
    "   * Make sure your notebook runs fully & without errors, from a fresh kernel, before submitting it"
   ]
  },
  {
   "cell_type": "markdown",
   "metadata": {},
   "source": [
    "# Problem Overview\n",
    "\n",
    "In this problem we will find eigenvalues of the 1H Schrödinger equation using numerical methods.\n",
    "\n",
    "The time-independent Schrödinger equation in 1D can be written :\n",
    "\n",
    "\\begin{equation}\n",
    "H \\psi = E \\psi \\tag{1}\n",
    "\\end{equation}\n",
    "\n",
    "Where the Hamiltonian $H$ is given by \n",
    "\n",
    "$$\n",
    "H = \\frac{-\\hbar^2}{2m}\\frac{d^2}{dx^2} + V \\tag{2}\n",
    "$$\n",
    "\n",
    "In order to find numerical solutions, we can divide the spatial dimension into $N$ discrete points, $x_i$, and evaluate $\\psi$ at each one.  Given this, equation 1 becomes a matrix equation, with $\\psi$ an $N$-dimensional vector, and $H$ an $(N \\times N)$ matrix.  We can then find the eigenvalues and eigenfunctions of the equation using numerical methods.\n",
    "\n",
    "In order to define the matrix $H$, we can use a discrete approximation of the 2nd derivative :\n",
    "$$\n",
    "\\frac{d^2}{dx^2} \\psi(x_i) \\rightarrow \\frac{\\psi_{i-1} - 2\\psi_i + \\psi_{i+1}}{(\\Delta x)^2}\n",
    "$$\n",
    "\n",
    "where $(\\Delta x)$ is the distance between discrete points $x_i$. We will choose dimensionless units for each problem, where $x$ is measured in terms of a length $a$, and $E$ is therefore measured in units of $\\frac{\\hbar^2}{2m a^2}$.  We can therefore write the kinetic energy term of the Hamiltonian as a \"tri-diagonal\" matrix $H$, which has the leading diagonal :\n",
    "\n",
    "$$D_{i,i} = \\frac{2}{(\\Delta x)^2}$$\n",
    "\n",
    "and the diagonals above and below this are :\n",
    "\n",
    "$$D_{i,i+1} = D_{i,i-1} = \\frac{-1}{(\\Delta x)^2}$$\n",
    "\n",
    "The potential term $V \\psi$ can be represented by a matrix where the leading diagonal is the potential evaluated at the $i$-th point in space, $V_{i,i} = V(x_i)$, and all other entries are zero.\n",
    "\n",
    "Given a potential, we construct the Hamiltonian matrix, $H=H+V$, and then use a numerical method to find the eigenvalues and eigenvectors of $H$."
   ]
  },
  {
   "cell_type": "markdown",
   "metadata": {},
   "source": [
    "## Part 1\n",
    "\n",
    "The quantum harmonic oscillator is a good example to start with, since it has exact analytic solutions. The potential is :\n",
    "$$V(x) = \\frac{1}{2}m \\omega^2 x^2$$\n",
    "\n",
    "If we choose to measure $x$ in units of $\\sqrt{\\frac{\\hbar}{m \\omega}}$, then $E$ will be measured in units of $\\frac{1}{2}\\hbar \\omega$, and the potential can be written :\n",
    "\n",
    "$$V(x_i) = i^2 (\\Delta x)^2 = x_i^2$$\n",
    "\n",
    "You should write a function which takes as argument a discrete set of space points, $x_i$, (ie. an array), and returns the potential at each point, $V_i$ (another array)."
   ]
  },
  {
   "cell_type": "code",
   "execution_count": 1,
   "metadata": {
    "tags": []
   },
   "outputs": [
    {
     "ename": "NameError",
     "evalue": "name 'xvals' is not defined",
     "output_type": "error",
     "traceback": [
      "\u001b[1;31m---------------------------------------------------------------------------\u001b[0m",
      "\u001b[1;31mNameError\u001b[0m                                 Traceback (most recent call last)",
      "\u001b[1;32m~\\AppData\\Local\\Temp/ipykernel_12820/1502738787.py\u001b[0m in \u001b[0;36m<module>\u001b[1;34m\u001b[0m\n\u001b[0;32m     11\u001b[0m \u001b[1;33m\u001b[0m\u001b[0m\n\u001b[0;32m     12\u001b[0m \u001b[1;33m\u001b[0m\u001b[0m\n\u001b[1;32m---> 13\u001b[1;33m \u001b[0mprint\u001b[0m\u001b[1;33m(\u001b[0m\u001b[0mpotential_qho\u001b[0m\u001b[1;33m(\u001b[0m\u001b[0mxvals\u001b[0m\u001b[1;33m)\u001b[0m\u001b[1;33m)\u001b[0m\u001b[1;33m\u001b[0m\u001b[1;33m\u001b[0m\u001b[0m\n\u001b[0m",
      "\u001b[1;31mNameError\u001b[0m: name 'xvals' is not defined"
     ]
    }
   ],
   "source": [
    "import numpy as np\n",
    "import scipy\n",
    "import matplotlib.pyplot as plt\n",
    "from scipy import sparse\n",
    "\n",
    "def potential_qho(x):\n",
    "    v = np.zeros(len(x))\n",
    "    for i in range(len(x)):\n",
    "        v[i] = (x[i])**2\n",
    "    return v\n",
    "\n",
    "\n",
    "print(potential_qho(xvals))"
   ]
  },
  {
   "cell_type": "markdown",
   "metadata": {},
   "source": [
    "Now test your function by plotting the results over a suitable range of $x$."
   ]
  },
  {
   "cell_type": "code",
   "execution_count": null,
   "metadata": {},
   "outputs": [
    {
     "data": {
      "image/png": "[encoded data removed]",
      "text/plain": [
       "<Figure size 432x288 with 1 Axes>"
      ]
     },
     "metadata": {
      "needs_background": "light"
     },
     "output_type": "display_data"
    }
   ],
   "source": [
    "xvals = np.linspace(-5,5, 11)\n",
    "\n",
    "plt.plot(xvals, potential_qho(xvals))\n",
    "plt.show()"
   ]
  },
  {
   "cell_type": "markdown",
   "metadata": {},
   "source": [
    "# Part 2\n",
    "\n",
    "Now write a function which, given the discrete space points $x_i$ and the potential $V_i$, constructs and returns the Hamiltonian matrix."
   ]
  },
  {
   "cell_type": "code",
   "execution_count": null,
   "metadata": {
    "tags": []
   },
   "outputs": [],
   "source": [
    "def hamiltonian(x, v):\n",
    "    H = sparse.eye(len(x), len(x), format = 'lil') * 2\n",
    "    dx = x[1] - x[0]\n",
    "    for i in range (len(x) - 1):\n",
    "        H[i, i+1] = -1\n",
    "        H[i+1, i] = -1\n",
    "    H = H / (dx**2)\n",
    "    for i in range(len(x)):\n",
    "        H[i,i] = H[i,i] + v[i]\n",
    "    return H.toarray()\n"
   ]
  },
  {
   "cell_type": "markdown",
   "metadata": {},
   "source": [
    "Test your function by printing the matrix it returns.  You can use small $N$ and check a few elements by hand to ensure they are correct."
   ]
  },
  {
   "cell_type": "code",
   "execution_count": null,
   "metadata": {},
   "outputs": [
    {
     "name": "stdout",
     "output_type": "stream",
     "text": [
      "[[11. -1.  0.  0.  0.  0.  0.]\n",
      " [-1.  6. -1.  0.  0.  0.  0.]\n",
      " [ 0. -1.  3. -1.  0.  0.  0.]\n",
      " [ 0.  0. -1.  2. -1.  0.  0.]\n",
      " [ 0.  0.  0. -1.  3. -1.  0.]\n",
      " [ 0.  0.  0.  0. -1.  6. -1.]\n",
      " [ 0.  0.  0.  0.  0. -1. 11.]]\n"
     ]
    }
   ],
   "source": [
    "xs = np.linspace(-3,3, 7) \n",
    "print(hamiltonian(xs, potential_qho(xs)))\n"
   ]
  },
  {
   "cell_type": "markdown",
   "metadata": {},
   "source": [
    "# Part 3\n",
    "\n",
    "Now find the first 10 eigenvalues of the quantum harmonic oscillator Hamiltonian using an appropriate scipy routine. You should use a large number of $x$ points, at least 1000, covering sufficient range that the wavefunction falls to zero at the extremities. You should compare the computed eigenvalues with the expected eigenvalues."
   ]
  },
  {
   "cell_type": "code",
   "execution_count": null,
   "metadata": {
    "tags": []
   },
   "outputs": [],
   "source": []
  },
  {
   "cell_type": "markdown",
   "metadata": {},
   "source": [
    "Next you should plot the wavefunctions, ie. the eigenvectors.  Rather than plot the wavefunction directly, you should plot the probability density, which is given by $\\psi^2$, and indicates the probability to find the particle at position $x$."
   ]
  },
  {
   "cell_type": "code",
   "execution_count": null,
   "metadata": {},
   "outputs": [
    {
     "data": {
      "image/png": "[encoded data removed]",
      "text/plain": [
       "<Figure size 432x288 with 1 Axes>"
      ]
     },
     "metadata": {
      "needs_background": "light"
     },
     "output_type": "display_data"
    }
   ],
   "source": [
    "\n"
   ]
  },
  {
   "cell_type": "markdown",
   "metadata": {},
   "source": [
    "# Part 4\n",
    "\n",
    "Having verified our method, we can use it to find the eigenvalues of a more complex system - the Hydrogen atom.  In a spherically symmetric system, the wavefunction can be written :\n",
    "\n",
    "$$\\frac{1}{r}\\Psi(r)Y_{lm}(\\theta, \\phi)e^{i m\\phi}$$\n",
    "\n",
    "where $Y_{lm}(\\theta, \\phi)$ are the spherical harmonic functions and l, m are the angular momentum quantum numbers. The radial function $\\Psi(r)$ satisfies the time-independent Schrödinger equation, provided a suitable term is added to the potential.\n",
    "\n",
    "If we use the Bohr radius $a_0$ as the unit $r$, where :\n",
    "$$a_0 = \\frac{4 \\pi \\epsilon \\hbar^2}{m_e e^2}$$\n",
    "\n",
    "then the energy will be measured in units of :\n",
    "$$\\frac{m_e e^4}{2 (4 \\pi \\epsilon_0)^2 \\hbar^2}$$\n",
    "\n",
    "and the potential for the hydrogen atom can be written :\n",
    "\n",
    "$$V(r_i) = \\frac{-2}{r_i} + \\frac{l(l+1)}{r_i^2}$$\n",
    "\n",
    "Write a function which takes as argument a discrete set of points, $r_i$, and returns the potential $V_i$. You should use a range of $r$ such that the wavefunction become negligible - 200 Bohr radii should be sufficient.  Note that $r$ must now be positive."
   ]
  },
  {
   "cell_type": "code",
   "execution_count": null,
   "metadata": {},
   "outputs": [],
   "source": []
  },
  {
   "cell_type": "markdown",
   "metadata": {},
   "source": [
    "Now re-use the `hamiltonian()` function to generate the Hamiltonian matrix for the Hydrogren atom, and find at least the first 5 eigenvalues for at least l=0. Compare these eigenvalues with the expected eigenvalues."
   ]
  },
  {
   "cell_type": "code",
   "execution_count": null,
   "metadata": {},
   "outputs": [],
   "source": []
  },
  {
   "cell_type": "markdown",
   "metadata": {},
   "source": [
    "Finally, as for the quantum harmonic oscillator, plot the wavefunctions."
   ]
  },
  {
   "cell_type": "code",
   "execution_count": null,
   "metadata": {},
   "outputs": [],
   "source": []
  },
  {
   "cell_type": "markdown",
   "metadata": {},
   "source": [
    "# Part 5\n",
    "\n",
    "In the Markdown cell below, describe how your code solves the problem set. State any equations used in the solution and how they were obtained. Include your reasons for any libraries you used, as well as any particular programming techniques. Explain your choice of any test cases. Finally, state any salient features of the results you obtained. You are not expected to write more than about 250-300 words."
   ]
  },
  {
   "cell_type": "markdown",
   "metadata": {},
   "source": []
  }
 ],
 "metadata": {
  "celltoolbar": "Create Assignment",
  "kernelspec": {
   "display_name": "Python 3",
   "language": "python",
   "name": "python3"
  },
  "language_info": {
   "codemirror_mode": {
    "name": "ipython",
    "version": 3
   },
   "file_extension": ".py",
   "mimetype": "text/x-python",
   "name": "python",
   "nbconvert_exporter": "python",
   "pygments_lexer": "ipython3",
   "version": "3.9.4"
  }
 },
 "nbformat": 4,
 "nbformat_minor": 2
}
