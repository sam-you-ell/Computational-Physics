{
 "cells": [
  {
   "cell_type": "markdown",
   "metadata": {},
   "source": [
    "# Exercise 2\n",
    "\n",
    "**Remember**\n",
    "   * You are expected to use numpy and scipy libraries where appropriate.  \n",
    "   * You should run each cell in order from the top of the notebook; there is no need to repeat code between cells\n",
    "   * Use the \"refresh kernel\" button to reset everything and start again\n",
    "   * Make sure your notebook runs fully & without errors, from a fresh kernel, before submitting it"
   ]
  },
  {
   "cell_type": "markdown",
   "metadata": {},
   "source": [
    "# Problem Overview\n",
    "\n",
    "In this problem we will find eigenvalues of the 1H Schrödinger equation using numerical methods.\n",
    "\n",
    "The time-independent Schrödinger equation in 1D can be written :\n",
    "\n",
    "\\begin{equation}\n",
    "H \\psi = E \\psi \\tag{1}\n",
    "\\end{equation}\n",
    "\n",
    "Where the Hamiltonian $H$ is given by \n",
    "\n",
    "$$\n",
    "H = \\frac{-\\hbar^2}{2m}\\frac{d^2}{dx^2} + V \\tag{2}\n",
    "$$\n",
    "\n",
    "In order to find numerical solutions, we can divide the spatial dimension into $N$ discrete points, $x_i$, and evaluate $\\psi$ at each one.  Given this, equation 1 becomes a matrix equation, with $\\psi$ an $N$-dimensional vector, and $H$ an $(N \\times N)$ matrix.  We can then find the eigenvalues and eigenfunctions of the equation using numerical methods.\n",
    "\n",
    "In order to define the matrix $H$, we can use a discrete approximation of the 2nd derivative :\n",
    "$$\n",
    "\\frac{d^2}{dx^2} \\psi(x_i) \\rightarrow \\frac{\\psi_{i-1} - 2\\psi_i + \\psi_{i+1}}{(\\Delta x)^2}\n",
    "$$\n",
    "\n",
    "where $(\\Delta x)$ is the distance between discrete points $x_i$. We will choose dimensionless units for each problem, where $x$ is measured in terms of a length $a$, and $E$ is therefore measured in units of $\\frac{\\hbar^2}{2m a^2}$.  We can therefore write the kinetic energy term of the Hamiltonian as a \"tri-diagonal\" matrix $H$, which has the leading diagonal :\n",
    "\n",
    "$$D_{i,i} = \\frac{2}{(\\Delta x)^2}$$\n",
    "\n",
    "and the diagonals above and below this are :\n",
    "\n",
    "$$D_{i,i+1} = D_{i,i-1} = \\frac{-1}{(\\Delta x)^2}$$\n",
    "\n",
    "The potential term $V \\psi$ can be represented by a matrix where the leading diagonal is the potential evaluated at the $i$-th point in space, $V_{i,i} = V(x_i)$, and all other entries are zero.\n",
    "\n",
    "Given a potential, we construct the Hamiltonian matrix, $H=H+V$, and then use a numerical method to find the eigenvalues and eigenvectors of $H$."
   ]
  },
  {
   "cell_type": "markdown",
   "metadata": {},
   "source": [
    "## Part 1\n",
    "\n",
    "The quantum harmonic oscillator is a good example to start with, since it has exact analytic solutions. The potential is :\n",
    "$$V(x) = \\frac{1}{2}m \\omega^2 x^2$$\n",
    "\n",
    "If we choose to measure $x$ in units of $\\sqrt{\\frac{\\hbar}{m \\omega}}$, then $E$ will be measured in units of $\\frac{1}{2}\\hbar \\omega$, and the potential can be written :\n",
    "\n",
    "$$V(x_i) = i^2 (\\Delta x)^2 = x_i^2$$\n",
    "\n",
    "You should write a function which takes as argument a discrete set of space points, $x_i$, (ie. an array), and returns the potential at each point, $V_i$ (another array)."
   ]
  },
  {
   "cell_type": "code",
   "execution_count": 2,
   "metadata": {
    "tags": []
   },
   "outputs": [],
   "source": [
    "import numpy as np\n",
    "import scipy\n",
    "import matplotlib.pyplot as plt\n",
    "from scipy import sparse, linalg\n",
    "\n",
    "def potential_qho(x):\n",
    "    v = np.zeros(len(x))\n",
    "    for i in range(len(x)):\n",
    "        v[i] = (x[i])**2\n",
    "    return v\n"
   ]
  },
  {
   "cell_type": "markdown",
   "metadata": {},
   "source": [
    "Now test your function by plotting the results over a suitable range of $x$."
   ]
  },
  {
   "cell_type": "code",
   "execution_count": 3,
   "metadata": {},
   "outputs": [
    {
     "data": {
      "image/png": "[encoded data removed]",
      "text/plain": [
       "<Figure size 432x288 with 1 Axes>"
      ]
     },
     "metadata": {
      "needs_background": "light"
     },
     "output_type": "display_data"
    }
   ],
   "source": [
    "xvals = np.linspace(-5,5, 11)\n",
    "\n",
    "plt.plot(xvals, potential_qho(xvals))\n",
    "plt.show()"
   ]
  },
  {
   "cell_type": "markdown",
   "metadata": {},
   "source": [
    "# Part 2\n",
    "\n",
    "Now write a function which, given the discrete space points $x_i$ and the potential $V_i$, constructs and returns the Hamiltonian matrix."
   ]
  },
  {
   "cell_type": "code",
   "execution_count": 4,
   "metadata": {
    "tags": []
   },
   "outputs": [],
   "source": [
    "def hamiltonian(x, v):\n",
    "    H = sparse.eye(len(x), len(x), format = 'lil') * 2\n",
    "    dx = x[1] - x[0]\n",
    "    for i in range (len(x) - 1):\n",
    "        H[i, i+1] = -1\n",
    "        H[i+1, i] = -1\n",
    "    H = H / (dx**2)\n",
    "    for i in range(len(x)):\n",
    "        H[i,i] = H[i,i] + v[i]\n",
    "    return H.toarray()\n"
   ]
  },
  {
   "cell_type": "markdown",
   "metadata": {},
   "source": [
    "Test your function by printing the matrix it returns.  You can use small $N$ and check a few elements by hand to ensure they are correct."
   ]
  },
  {
   "cell_type": "code",
   "execution_count": 5,
   "metadata": {},
   "outputs": [
    {
     "name": "stdout",
     "output_type": "stream",
     "text": [
      "[[11. -1.  0.  0.  0.  0.  0.]\n",
      " [-1.  6. -1.  0.  0.  0.  0.]\n",
      " [ 0. -1.  3. -1.  0.  0.  0.]\n",
      " [ 0.  0. -1.  2. -1.  0.  0.]\n",
      " [ 0.  0.  0. -1.  3. -1.  0.]\n",
      " [ 0.  0.  0.  0. -1.  6. -1.]\n",
      " [ 0.  0.  0.  0.  0. -1. 11.]]\n"
     ]
    }
   ],
   "source": [
    "xs = np.linspace(-3,3, 7) \n",
    "print(hamiltonian(xs, potential_qho(xs)))\n"
   ]
  },
  {
   "cell_type": "markdown",
   "metadata": {},
   "source": [
    "# Part 3\n",
    "\n",
    "Now find the first 10 eigenvalues of the quantum harmonic oscillator Hamiltonian using an appropriate scipy routine. You should use a large number of $x$ points, at least 1000, covering sufficient range that the wavefunction falls to zero at the extremities. You should compare the computed eigenvalues with the expected eigenvalues."
   ]
  },
  {
   "cell_type": "code",
   "execution_count": 19,
   "metadata": {
    "tags": []
   },
   "outputs": [
    {
     "name": "stdout",
     "output_type": "stream",
     "text": [
      "[1.07385280e+00 3.52350483e+00 6.78233820e+00 1.11350702e+01\n",
      " 1.66812665e+01 2.34460641e+01 3.14359159e+01 4.06527658e+01\n",
      " 5.10972795e+01 6.27696836e+01 7.56700241e+01 8.97982602e+01\n",
      " 1.05154302e+02 1.21738029e+02 1.39549297e+02 1.58587943e+02\n",
      " 1.78853788e+02 2.00346639e+02 2.23066289e+02 2.47012517e+02\n",
      " 2.72185090e+02 2.98583761e+02 3.26208272e+02 3.55058353e+02\n",
      " 3.85133719e+02 4.16434076e+02 4.48959116e+02 4.82708518e+02\n",
      " 5.17681951e+02 5.53879070e+02 5.91299520e+02 6.29942932e+02\n",
      " 6.69808925e+02 7.10897108e+02 7.53207074e+02 7.96738409e+02\n",
      " 8.41490683e+02 8.87463455e+02 9.34656273e+02 9.83068671e+02\n",
      " 1.03270017e+03 1.08355029e+03 1.13561852e+03 1.18890436e+03\n",
      " 1.24340727e+03 1.29912672e+03 1.35606216e+03 1.41421304e+03\n",
      " 1.47357877e+03 1.53415877e+03 1.59595245e+03 1.65895920e+03\n",
      " 1.72317839e+03 1.78860940e+03 1.85525158e+03 1.92310427e+03\n",
      " 1.99216681e+03 2.06243851e+03 2.13391869e+03 2.20660663e+03\n",
      " 2.28050163e+03 2.35560295e+03 2.43190986e+03 2.50942160e+03\n",
      " 2.58813741e+03 2.66805651e+03 2.74917813e+03 2.83150145e+03\n",
      " 2.91502567e+03 2.99974997e+03 3.08567350e+03 3.17279543e+03\n",
      " 3.26111490e+03 3.35063103e+03 3.44134295e+03 3.53324975e+03\n",
      " 3.62635055e+03 3.72064441e+03 3.81613041e+03 3.91280761e+03\n",
      " 4.01067506e+03 4.10973179e+03 4.20997683e+03 4.31140918e+03\n",
      " 4.41402786e+03 4.51783185e+03 4.62282013e+03 4.72899166e+03\n",
      " 4.83634540e+03 4.94488028e+03 5.05459525e+03 5.16548922e+03\n",
      " 5.27756110e+03 5.39080978e+03 5.50523416e+03 5.62083309e+03\n",
      " 5.73760545e+03 5.85555007e+03 5.97466582e+03 6.09495149e+03\n",
      " 6.21640593e+03 6.33902792e+03 6.46281625e+03 6.58776972e+03\n",
      " 6.71388709e+03 6.84116711e+03 6.96960854e+03 7.09921010e+03\n",
      " 7.22997053e+03 7.36188853e+03 7.49496280e+03 7.62919204e+03\n",
      " 7.76457491e+03 7.90111010e+03 8.03879625e+03 8.17763200e+03\n",
      " 8.31761599e+03 8.45874685e+03 8.60102317e+03 8.74444356e+03\n",
      " 8.88900661e+03 9.03471089e+03 9.18155497e+03 9.32953740e+03\n",
      " 9.47865672e+03 9.62891146e+03 9.78030015e+03 9.93282129e+03\n",
      " 1.00864734e+04 1.02412549e+04 1.03971644e+04 1.05542002e+04\n",
      " 1.07123608e+04 1.08716447e+04 1.10320504e+04 1.11935761e+04\n",
      " 1.13562204e+04 1.15199816e+04 1.16848581e+04 1.18508484e+04\n",
      " 1.20179506e+04 1.21861633e+04 1.23554848e+04 1.25259133e+04\n",
      " 1.26974473e+04 1.28700849e+04 1.30438246e+04 1.32186646e+04\n",
      " 1.33946032e+04 1.35716386e+04 1.37497691e+04 1.39289930e+04\n",
      " 1.41093085e+04 1.42907138e+04 1.44732071e+04 1.46567866e+04\n",
      " 1.48414506e+04 1.50271972e+04 1.52140245e+04 1.54019308e+04\n",
      " 1.55909141e+04 1.57809727e+04 1.59721046e+04 1.61643080e+04\n",
      " 1.63575810e+04 1.65519216e+04 1.67473280e+04 1.69437982e+04\n",
      " 1.71413302e+04 1.73399223e+04 1.75395723e+04 1.77402784e+04\n",
      " 1.79420385e+04 1.81448507e+04 1.83487129e+04 1.85536232e+04\n",
      " 1.87595795e+04 1.89665798e+04 1.91746221e+04 1.93837043e+04\n",
      " 1.95938244e+04 1.98049803e+04 2.00171699e+04 2.02303911e+04\n",
      " 2.04446418e+04 2.06599199e+04 2.08762234e+04 2.10935499e+04\n",
      " 2.13118975e+04 2.15312640e+04 2.17516472e+04 2.19730449e+04\n",
      " 2.21954550e+04 2.24188752e+04 2.26433034e+04 2.28687374e+04\n",
      " 2.30951748e+04 2.33226136e+04 2.35510515e+04 2.37804861e+04\n",
      " 2.40109154e+04 2.42423369e+04 2.44747484e+04 2.47081476e+04\n",
      " 2.49425322e+04 2.51779000e+04 2.54142485e+04 2.56515755e+04\n",
      " 2.58898786e+04 2.61291555e+04 2.63694038e+04 2.66106211e+04\n",
      " 2.68528052e+04 2.70959535e+04 2.73400637e+04 2.75851334e+04\n",
      " 2.78311602e+04 2.80781416e+04 2.83260753e+04 2.85749587e+04\n",
      " 2.88247895e+04 2.90755652e+04 2.93272832e+04 2.95799411e+04\n",
      " 2.98335365e+04 3.00880668e+04 3.03435296e+04 3.05999222e+04\n",
      " 3.08572422e+04 3.11154871e+04 3.13746543e+04 3.16347412e+04\n",
      " 3.18957453e+04 3.21576640e+04 3.24204948e+04 3.26842350e+04\n",
      " 3.29488821e+04 3.32144334e+04 3.34808864e+04 3.37482383e+04\n",
      " 3.40164867e+04 3.42856287e+04 3.45556618e+04 3.48265834e+04\n",
      " 3.50983907e+04 3.53710811e+04 3.56446518e+04 3.59191003e+04\n",
      " 3.61944237e+04 3.64706194e+04 3.67476847e+04 3.70256168e+04\n",
      " 3.73044130e+04 3.75840705e+04 3.78645866e+04 3.81459586e+04\n",
      " 3.84281836e+04 3.87112589e+04 3.89951816e+04 3.92799491e+04\n",
      " 3.95655584e+04 3.98520068e+04 4.01392915e+04 4.04274096e+04\n",
      " 4.07163582e+04 4.10061346e+04 4.12967359e+04 4.15881592e+04\n",
      " 4.18804017e+04 4.21734604e+04 4.24673325e+04 4.27620151e+04\n",
      " 4.30575053e+04 4.33538001e+04 4.36508967e+04 4.39487922e+04\n",
      " 4.42474835e+04 4.45469678e+04 4.48472421e+04 4.51483035e+04\n",
      " 4.54501489e+04 4.57527754e+04 4.60561801e+04 4.63603599e+04\n",
      " 4.66653119e+04 4.69710330e+04 4.72775202e+04 4.75847705e+04\n",
      " 4.78927809e+04 4.82015484e+04 4.85110699e+04 4.88213423e+04\n",
      " 4.91323626e+04 4.94441278e+04 4.97566347e+04 5.00698804e+04\n",
      " 5.03838616e+04 5.06985753e+04 5.10140185e+04 5.13301880e+04\n",
      " 5.16470806e+04 5.19646934e+04 5.22830230e+04 5.26020665e+04\n",
      " 5.29218206e+04 5.32422823e+04 5.35634483e+04 5.38853155e+04\n",
      " 5.42078807e+04 5.45311408e+04 5.48550925e+04 5.51797328e+04\n",
      " 5.55050582e+04 5.58310658e+04 5.61577522e+04 5.64851142e+04\n",
      " 5.68131487e+04 5.71418524e+04 5.74712220e+04 5.78012543e+04\n",
      " 5.81319460e+04 5.84632940e+04 5.87952948e+04 5.91279454e+04\n",
      " 5.94612423e+04 5.97951823e+04 6.01297621e+04 6.04649785e+04\n",
      " 6.08008281e+04 6.11373075e+04 6.14744136e+04 6.18121429e+04\n",
      " 6.21504922e+04 6.24894581e+04 6.28290373e+04 6.31692264e+04\n",
      " 6.35100221e+04 6.38514209e+04 6.41934197e+04 6.45360149e+04\n",
      " 6.48792033e+04 6.52229814e+04 6.55673458e+04 6.59122932e+04\n",
      " 6.62578202e+04 6.66039233e+04 6.69505992e+04 6.72978444e+04\n",
      " 6.76456555e+04 6.79940291e+04 6.83429617e+04 6.86924500e+04\n",
      " 6.90424904e+04 6.93930796e+04 6.97442140e+04 7.00958903e+04\n",
      " 7.04481049e+04 7.08008544e+04 7.11541353e+04 7.15079441e+04\n",
      " 7.18622774e+04 7.22171316e+04 7.25725032e+04 7.29283889e+04\n",
      " 7.32847850e+04 7.36416880e+04 7.39990944e+04 7.43570008e+04\n",
      " 7.47154035e+04 7.50742991e+04 7.54336840e+04 7.57935547e+04\n",
      " 7.61539076e+04 7.65147392e+04 7.68760459e+04 7.72378241e+04\n",
      " 7.76000704e+04 7.79627811e+04 7.83259527e+04 7.86895816e+04\n",
      " 7.90536642e+04 7.94181968e+04 7.97831761e+04 8.01485982e+04\n",
      " 8.05144597e+04 8.08807569e+04 8.12474862e+04 8.16146441e+04\n",
      " 8.19822268e+04 8.23502308e+04 8.27186525e+04 8.30874881e+04\n",
      " 8.34567342e+04 8.38263870e+04 8.41964429e+04 8.45668983e+04\n",
      " 8.49377495e+04 8.53089928e+04 8.56806247e+04 8.60526414e+04\n",
      " 8.64250393e+04 8.67978146e+04 8.71709639e+04 8.75444833e+04\n",
      " 8.79183691e+04 8.82926178e+04 8.86672256e+04 8.90421888e+04\n",
      " 8.94175038e+04 8.97931668e+04 9.01691741e+04 9.05455220e+04\n",
      " 9.09222069e+04 9.12992250e+04 9.16765726e+04 9.20542460e+04\n",
      " 9.24322414e+04 9.28105552e+04 9.31891836e+04 9.35681229e+04\n",
      " 9.39473693e+04 9.43269191e+04 9.47067687e+04 9.50869141e+04\n",
      " 9.54673518e+04 9.58480779e+04 9.62290887e+04 9.66103804e+04\n",
      " 9.69919493e+04 9.73737917e+04 9.77559037e+04 9.81382816e+04\n",
      " 9.85209217e+04 9.89038201e+04 9.92869732e+04 9.96703770e+04\n",
      " 1.00054028e+05 1.00437922e+05 1.00822056e+05 1.01206425e+05\n",
      " 1.01591026e+05 1.01975856e+05 1.02360909e+05 1.02746184e+05\n",
      " 1.03131675e+05 1.03517379e+05 1.03903292e+05 1.04289410e+05\n",
      " 1.04675730e+05 1.05062248e+05 1.05448960e+05 1.05835862e+05\n",
      " 1.06222950e+05 1.06610220e+05 1.06997670e+05 1.07385294e+05\n",
      " 1.07773089e+05 1.08161052e+05 1.08549178e+05 1.08937463e+05\n",
      " 1.09325905e+05 1.09714498e+05 1.10103239e+05 1.10492125e+05\n",
      " 1.10881151e+05 1.11270313e+05 1.11659609e+05 1.12049033e+05\n",
      " 1.12438583e+05 1.12828254e+05 1.13218042e+05 1.13607944e+05\n",
      " 1.13997956e+05 1.14388073e+05 1.14778293e+05 1.15168611e+05\n",
      " 1.15559023e+05 1.15949526e+05 1.16340115e+05 1.16730787e+05\n",
      " 1.17121539e+05 1.17512365e+05 1.17903263e+05 1.18294228e+05\n",
      " 1.18685257e+05 1.19076346e+05 1.19467490e+05 1.19858687e+05\n",
      " 1.20249932e+05 1.20641221e+05 1.21032550e+05 1.21423917e+05\n",
      " 1.21815316e+05 1.22206744e+05 1.22598197e+05 1.22989671e+05\n",
      " 1.23381162e+05 1.23772667e+05 1.24164182e+05 1.24555702e+05\n",
      " 1.24947225e+05 1.25338745e+05 1.25730260e+05 1.26121765e+05\n",
      " 1.26513257e+05 1.26904731e+05 1.27296184e+05 1.27687612e+05\n",
      " 1.28079011e+05 1.28470377e+05 1.28861706e+05 1.29252996e+05\n",
      " 1.29644240e+05 1.30035437e+05 1.30426581e+05 1.30817670e+05\n",
      " 1.31208699e+05 1.31599664e+05 1.31990562e+05 1.32381389e+05\n",
      " 1.32772140e+05 1.33162812e+05 1.33553402e+05 1.33943905e+05\n",
      " 1.34334317e+05 1.34724635e+05 1.35114854e+05 1.35504972e+05\n",
      " 1.35894983e+05 1.36284885e+05 1.36674674e+05 1.37064344e+05\n",
      " 1.37453894e+05 1.37843318e+05 1.38232614e+05 1.38621777e+05\n",
      " 1.39010803e+05 1.39399688e+05 1.39788430e+05 1.40177023e+05\n",
      " 1.40565464e+05 1.40953750e+05 1.41341876e+05 1.41729838e+05\n",
      " 1.42117633e+05 1.42505258e+05 1.42892707e+05 1.43279978e+05\n",
      " 1.43667066e+05 1.44053968e+05 1.44440679e+05 1.44827197e+05\n",
      " 1.45213517e+05 1.45599636e+05 1.45985549e+05 1.46371253e+05\n",
      " 1.46756744e+05 1.47142018e+05 1.47527072e+05 1.47911901e+05\n",
      " 1.48296502e+05 1.48680872e+05 1.49065005e+05 1.49448899e+05\n",
      " 1.49832550e+05 1.50215954e+05 1.50599107e+05 1.50982006e+05\n",
      " 1.51364646e+05 1.51747024e+05 1.52129136e+05 1.52510978e+05\n",
      " 1.52892547e+05 1.53273839e+05 1.53654849e+05 1.54035576e+05\n",
      " 1.54416013e+05 1.54796159e+05 1.55176008e+05 1.55555558e+05\n",
      " 1.55934804e+05 1.56313744e+05 1.56692372e+05 1.57070686e+05\n",
      " 1.57448681e+05 1.57826355e+05 1.58203702e+05 1.58580720e+05\n",
      " 1.58957405e+05 1.59333753e+05 1.59709761e+05 1.60085424e+05\n",
      " 1.60460739e+05 1.60835702e+05 1.61210310e+05 1.61584558e+05\n",
      " 1.61958444e+05 1.62331963e+05 1.62705113e+05 1.63077888e+05\n",
      " 1.63450286e+05 1.63822303e+05 1.64193935e+05 1.64565178e+05\n",
      " 1.64936029e+05 1.65306484e+05 1.65676540e+05 1.66046193e+05\n",
      " 1.66415439e+05 1.66784275e+05 1.67152697e+05 1.67520701e+05\n",
      " 1.67888283e+05 1.68255441e+05 1.68622170e+05 1.68988468e+05\n",
      " 1.69354329e+05 1.69719751e+05 1.70084730e+05 1.70449263e+05\n",
      " 1.70813346e+05 1.71176975e+05 1.71540146e+05 1.71902857e+05\n",
      " 1.72265103e+05 1.72626881e+05 1.72988188e+05 1.73349020e+05\n",
      " 1.73709373e+05 1.74069243e+05 1.74428628e+05 1.74787524e+05\n",
      " 1.75145927e+05 1.75503833e+05 1.75861239e+05 1.76218142e+05\n",
      " 1.76574538e+05 1.76930424e+05 1.77285796e+05 1.77640650e+05\n",
      " 1.77994983e+05 1.78348792e+05 1.78702073e+05 1.79054822e+05\n",
      " 1.79407037e+05 1.79758713e+05 1.80109848e+05 1.80460437e+05\n",
      " 1.80810477e+05 1.81159966e+05 1.81508898e+05 1.81857272e+05\n",
      " 1.82205083e+05 1.82552328e+05 1.82899004e+05 1.83245107e+05\n",
      " 1.83590634e+05 1.83935581e+05 1.84279946e+05 1.84623724e+05\n",
      " 1.84966912e+05 1.85309508e+05 1.85651506e+05 1.85992905e+05\n",
      " 1.86333701e+05 1.86673890e+05 1.87013469e+05 1.87352435e+05\n",
      " 1.87690784e+05 1.88028514e+05 1.88365620e+05 1.88702099e+05\n",
      " 1.89037949e+05 1.89373165e+05 1.89707745e+05 1.90041685e+05\n",
      " 1.90374982e+05 1.90707633e+05 1.91039633e+05 1.91370981e+05\n",
      " 1.91701673e+05 1.92031705e+05 1.92361075e+05 1.92689779e+05\n",
      " 1.93017813e+05 1.93345175e+05 1.93671862e+05 1.93997869e+05\n",
      " 1.94323195e+05 1.94647835e+05 1.94971787e+05 1.95295047e+05\n",
      " 1.95617612e+05 1.95939479e+05 1.96260645e+05 1.96581107e+05\n",
      " 1.96900861e+05 1.97219904e+05 1.97538234e+05 1.97855847e+05\n",
      " 1.98172739e+05 1.98488909e+05 1.98804352e+05 1.99119066e+05\n",
      " 1.99433047e+05 1.99746293e+05 2.00058800e+05 2.00370565e+05\n",
      " 2.00681585e+05 2.00991857e+05 2.01301379e+05 2.01610146e+05\n",
      " 2.01918157e+05 2.02225407e+05 2.02531894e+05 2.02837615e+05\n",
      " 2.03142567e+05 2.03446747e+05 2.03750152e+05 2.04052778e+05\n",
      " 2.04354624e+05 2.04655685e+05 2.04955960e+05 2.05255444e+05\n",
      " 2.05554135e+05 2.05852031e+05 2.06149127e+05 2.06445422e+05\n",
      " 2.06740912e+05 2.07035595e+05 2.07329467e+05 2.07622526e+05\n",
      " 2.07914768e+05 2.08206191e+05 2.08496793e+05 2.08786569e+05\n",
      " 2.09075518e+05 2.09363636e+05 2.09650920e+05 2.09937369e+05\n",
      " 2.10222978e+05 2.10507746e+05 2.10791668e+05 2.11074744e+05\n",
      " 2.11356969e+05 2.11638341e+05 2.11918857e+05 2.12198514e+05\n",
      " 2.12477311e+05 2.12755243e+05 2.13032308e+05 2.13308504e+05\n",
      " 2.13583827e+05 2.13858276e+05 2.14131846e+05 2.14404537e+05\n",
      " 2.14676344e+05 2.14947265e+05 2.15217299e+05 2.15486441e+05\n",
      " 2.15754689e+05 2.16022041e+05 2.16288494e+05 2.16554045e+05\n",
      " 2.16818692e+05 2.17082433e+05 2.17345263e+05 2.17607182e+05\n",
      " 2.17868186e+05 2.18128273e+05 2.18387440e+05 2.18645685e+05\n",
      " 2.18903005e+05 2.19159398e+05 2.19414860e+05 2.19669391e+05\n",
      " 2.19922986e+05 2.20175644e+05 2.20427362e+05 2.20678138e+05\n",
      " 2.20927969e+05 2.21176852e+05 2.21424786e+05 2.21671767e+05\n",
      " 2.21917794e+05 2.22162864e+05 2.22406974e+05 2.22650122e+05\n",
      " 2.22892306e+05 2.23133524e+05 2.23373772e+05 2.23613049e+05\n",
      " 2.23851352e+05 2.24088679e+05 2.24325027e+05 2.24560395e+05\n",
      " 2.24794780e+05 2.25028179e+05 2.25260590e+05 2.25492012e+05\n",
      " 2.25722441e+05 2.25951876e+05 2.26180314e+05 2.26407752e+05\n",
      " 2.26634190e+05 2.26859624e+05 2.27084052e+05 2.27307472e+05\n",
      " 2.27529882e+05 2.27751280e+05 2.27971663e+05 2.28191030e+05\n",
      " 2.28409377e+05 2.28626704e+05 2.28843007e+05 2.29058286e+05\n",
      " 2.29272536e+05 2.29485757e+05 2.29697947e+05 2.29909103e+05\n",
      " 2.30119223e+05 2.30328305e+05 2.30536347e+05 2.30743348e+05\n",
      " 2.30949304e+05 2.31154214e+05 2.31358077e+05 2.31560889e+05\n",
      " 2.31762649e+05 2.31963355e+05 2.32163005e+05 2.32361597e+05\n",
      " 2.32559129e+05 2.32755599e+05 2.32951006e+05 2.33145346e+05\n",
      " 2.33338619e+05 2.33530823e+05 2.33721955e+05 2.33912013e+05\n",
      " 2.34100997e+05 2.34288903e+05 2.34475730e+05 2.34661477e+05\n",
      " 2.34846141e+05 2.35029720e+05 2.35212214e+05 2.35393619e+05\n",
      " 2.35573934e+05 2.35753158e+05 2.35931289e+05 2.36108324e+05\n",
      " 2.36284263e+05 2.36459103e+05 2.36632842e+05 2.36805480e+05\n",
      " 2.36977014e+05 2.37147443e+05 2.37316764e+05 2.37484977e+05\n",
      " 2.37652079e+05 2.37818069e+05 2.37982946e+05 2.38146707e+05\n",
      " 2.38309351e+05 2.38470877e+05 2.38631283e+05 2.38790566e+05\n",
      " 2.38948727e+05 2.39105763e+05 2.39261672e+05 2.39416454e+05\n",
      " 2.39570106e+05 2.39722627e+05 2.39874016e+05 2.40024271e+05\n",
      " 2.40173390e+05 2.40321372e+05 2.40468216e+05 2.40613921e+05\n",
      " 2.40758484e+05 2.40901904e+05 2.41044180e+05 2.41185311e+05\n",
      " 2.41325295e+05 2.41464131e+05 2.41601817e+05 2.41738352e+05\n",
      " 2.41873735e+05 2.42007964e+05 2.42141039e+05 2.42272957e+05\n",
      " 2.42403717e+05 2.42533319e+05 2.42661760e+05 2.42789040e+05\n",
      " 2.42915157e+05 2.43040111e+05 2.43163899e+05 2.43286521e+05\n",
      " 2.43407976e+05 2.43528261e+05 2.43647377e+05 2.43765322e+05\n",
      " 2.43882094e+05 2.43997693e+05 2.44112117e+05 2.44225366e+05\n",
      " 2.44337438e+05 2.44448332e+05 2.44558047e+05 2.44666582e+05\n",
      " 2.44773935e+05 2.44880107e+05 2.44985095e+05 2.45088899e+05\n",
      " 2.45191518e+05 2.45292950e+05 2.45393195e+05 2.45492252e+05\n",
      " 2.45590119e+05 2.45686797e+05 2.45782283e+05 2.45876577e+05\n",
      " 2.45969677e+05 2.46061584e+05 2.46152296e+05 2.46241812e+05\n",
      " 2.46330132e+05 2.46417254e+05 2.46503177e+05 2.46587901e+05\n",
      " 2.46671426e+05 2.46753749e+05 2.46834870e+05 2.46914790e+05\n",
      " 2.46993505e+05 2.47071017e+05 2.47147324e+05 2.47222425e+05\n",
      " 2.47296320e+05 2.47369008e+05 2.47440488e+05 2.47510760e+05\n",
      " 2.47579823e+05 2.47647675e+05 2.47714317e+05 2.47779748e+05\n",
      " 2.47843968e+05 2.47906974e+05 2.47968768e+05 2.48029348e+05\n",
      " 2.48088714e+05 2.48146864e+05 2.48203800e+05 2.48259519e+05\n",
      " 2.48314022e+05 2.48367308e+05 2.48419376e+05 2.48470226e+05\n",
      " 2.48519858e+05 2.48568270e+05 2.48615463e+05 2.48661435e+05\n",
      " 2.48706188e+05 2.48749719e+05 2.48792029e+05 2.48833117e+05\n",
      " 2.48872983e+05 2.48911626e+05 2.48949046e+05 2.48985243e+05\n",
      " 2.49020217e+05 2.49053966e+05 2.49086491e+05 2.49117791e+05\n",
      " 2.49147866e+05 2.49176716e+05 2.49204340e+05 2.49230739e+05\n",
      " 2.49255911e+05 2.49279857e+05 2.49302576e+05 2.49324068e+05\n",
      " 2.49344333e+05 2.49363371e+05 2.49381181e+05 2.49397763e+05\n",
      " 2.49413118e+05 2.49427244e+05 2.49440141e+05 2.49451810e+05\n",
      " 2.49462249e+05 2.49471458e+05 2.49479436e+05 2.49486180e+05\n",
      " 2.49491685e+05 2.49495940e+05 2.49499002e+05 2.49500251e+05]\n"
     ]
    }
   ],
   "source": [
    "points = np.linspace(-2, 2, 1000)\n",
    "evals, evects = linalg.eigh(hamiltonian(points, potential_qho(points)))\n",
    "print(evals)"
   ]
  },
  {
   "cell_type": "markdown",
   "metadata": {},
   "source": [
    "Next you should plot the wavefunctions, ie. the eigenvectors.  Rather than plot the wavefunction directly, you should plot the probability density, which is given by $\\psi^2$, and indicates the probability to find the particle at position $x$."
   ]
  },
  {
   "cell_type": "code",
   "execution_count": 26,
   "metadata": {},
   "outputs": [
    {
     "data": {
      "image/png": "[encoded data removed]",
      "text/plain": [
       "<Figure size 432x288 with 1 Axes>"
      ]
     },
     "metadata": {
      "needs_background": "light"
     },
     "output_type": "display_data"
    }
   ],
   "source": [
    "\n",
    "plt.plot(points, evects[50]**2)\n",
    "plt.show()"
   ]
  },
  {
   "cell_type": "markdown",
   "metadata": {},
   "source": [
    "# Part 4\n",
    "\n",
    "Having verified our method, we can use it to find the eigenvalues of a more complex system - the Hydrogen atom.  In a spherically symmetric system, the wavefunction can be written :\n",
    "\n",
    "$$\\frac{1}{r}\\Psi(r)Y_{lm}(\\theta, \\phi)e^{i m\\phi}$$\n",
    "\n",
    "where $Y_{lm}(\\theta, \\phi)$ are the spherical harmonic functions and l, m are the angular momentum quantum numbers. The radial function $\\Psi(r)$ satisfies the time-independent Schrödinger equation, provided a suitable term is added to the potential.\n",
    "\n",
    "If we use the Bohr radius $a_0$ as the unit $r$, where :\n",
    "$$a_0 = \\frac{4 \\pi \\epsilon \\hbar^2}{m_e e^2}$$\n",
    "\n",
    "then the energy will be measured in units of :\n",
    "$$\\frac{m_e e^4}{2 (4 \\pi \\epsilon_0)^2 \\hbar^2}$$\n",
    "\n",
    "and the potential for the hydrogen atom can be written :\n",
    "\n",
    "$$V(r_i) = \\frac{-2}{r_i} + \\frac{l(l+1)}{r_i^2}$$\n",
    "\n",
    "Write a function which takes as argument a discrete set of points, $r_i$, and returns the potential $V_i$. You should use a range of $r$ such that the wavefunction become negligible - 200 Bohr radii should be sufficient.  Note that $r$ must now be positive."
   ]
  },
  {
   "cell_type": "code",
   "execution_count": null,
   "metadata": {},
   "outputs": [],
   "source": []
  },
  {
   "cell_type": "markdown",
   "metadata": {},
   "source": [
    "Now re-use the `hamiltonian()` function to generate the Hamiltonian matrix for the Hydrogren atom, and find at least the first 5 eigenvalues for at least l=0. Compare these eigenvalues with the expected eigenvalues."
   ]
  },
  {
   "cell_type": "code",
   "execution_count": null,
   "metadata": {},
   "outputs": [],
   "source": []
  },
  {
   "cell_type": "markdown",
   "metadata": {},
   "source": [
    "Finally, as for the quantum harmonic oscillator, plot the wavefunctions."
   ]
  },
  {
   "cell_type": "code",
   "execution_count": null,
   "metadata": {},
   "outputs": [],
   "source": []
  },
  {
   "cell_type": "markdown",
   "metadata": {},
   "source": [
    "# Part 5\n",
    "\n",
    "In the Markdown cell below, describe how your code solves the problem set. State any equations used in the solution and how they were obtained. Include your reasons for any libraries you used, as well as any particular programming techniques. Explain your choice of any test cases. Finally, state any salient features of the results you obtained. You are not expected to write more than about 250-300 words."
   ]
  },
  {
   "cell_type": "markdown",
   "metadata": {},
   "source": []
  }
 ],
 "metadata": {
  "celltoolbar": "Create Assignment",
  "kernelspec": {
   "display_name": "Python 3",
   "language": "python",
   "name": "python3"
  },
  "language_info": {
   "codemirror_mode": {
    "name": "ipython",
    "version": 3
   },
   "file_extension": ".py",
   "mimetype": "text/x-python",
   "name": "python",
   "nbconvert_exporter": "python",
   "pygments_lexer": "ipython3",
   "version": "3.9.4"
  }
 },
 "nbformat": 4,
 "nbformat_minor": 2
}
