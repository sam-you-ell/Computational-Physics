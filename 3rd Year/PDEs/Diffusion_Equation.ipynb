{
 "cells": [
  {
   "cell_type": "markdown",
   "metadata": {},
   "source": [
    "# Exercise 3\n",
    "\n",
    "In this assignment, you will find numerical solutions to the diffusion equation. In particular, you will use an implicit method, and consider problems with both Dirichlet and Neumann boundary conditions.\n",
    "\n",
    "**Remember**\n",
    "   * You are expected to use numpy and scipy libraries where appropriate.  \n",
    "   * You should run each cell in order from the top of the notebook; there is no need to repeat code between cells\n",
    "   * Use the \"refresh kernel\" button to reset everything and start again\n",
    "   * Make sure your notebook runs fully & without errors, from a fresh kernel, before submitting it"
   ]
  },
  {
   "cell_type": "code",
   "execution_count": null,
   "metadata": {},
   "outputs": [],
   "source": []
  },
  {
   "cell_type": "markdown",
   "metadata": {},
   "source": [
    "## Problem Overview\n",
    "\n",
    "The 1D diffusion equation is :\n",
    "\n",
    "$$\\frac{\\partial u}{\\partial t} = k\\frac{\\partial^2 u}{\\partial x^2}$$\n",
    "\n",
    "You should discretize this equation onto $N_x$ space points, with separation $\\Delta x = h$, and into timesteps $\\Delta t = \\tau$.  In the equations below, I use subscript $i$ as a space index, and superscript $n$ for time indices.\n",
    "\n",
    "Having discretized the problem, you should use the _implicit_ finite difference equation, as discussed in lectures :\n",
    "\n",
    "$$\\frac{u_i^{n+1} - u_i^n}{\\tau} = k \\frac{u_{i+1}^{n+1} - 2u_i^{n+1} + u_{i-1}^{n+1}}{h^2}$$\n",
    "\n",
    "This can be written in matrix form $u^n = M u^{n+1}$ using :\n",
    "\n",
    "$$u_i^n = - \\alpha u_{i-1}^{n+1} + (1 + 2\\alpha) u_i^{n+1} - \\alpha u_{i+1}^{n+1}$$\n",
    "\n",
    "where $\\alpha = \\frac{k \\tau}{h^2}$.\n",
    "\n",
    "In the problems below, you are asked to solve the diffusion equation in the context of the heat equation. Here, $k$ is the thermal diffusivity, given by $k = \\frac{\\lambda}{\\rho C}$, where $\\lambda$ is the thermal conductivity, $\\rho$ is the density, and $C$ is the specific heat capacity. The questions below concern an iron poker of length 50cm.  You may take the thermal conductivity of iron to be a constant 59 W/m/K, its specific heat as 450 J/kg/K, and its density as 7,900 kg/m3.  You can ignore heat loss along the length of the poker.\n"
   ]
  },
  {
   "cell_type": "markdown",
   "metadata": {},
   "source": [
    "## Part 1 - Dirichlet Boundary Conditions\n",
    "\n",
    "The poker is initially in equilibrium, at room temperature of 20 C. At time $t = 0$, one end is thrust into a furnace at 1000 C and the other end is held in an ice bath at 0 C. Your task is to calculate the temperature distribution along the poker as a function of time.\n",
    "\n",
    "The fact that the ends of the rod are held at fixed temperatures of 0 C and 1000 C corresponds to a Dirichlet boundary condition.  These can be included in the implicit method as follows.\n",
    "\n",
    "The implicit finite difference equation, above, will allow us to calculate the unknown 'internal' nodes, ie. $0 < i < (N_x-1)$.  However, the boundary nodes, $i=0, N_x$, must have fixed values $d_0, d_N$.  To fix the boundaries, we take the matrix M to be of size $(N_x-2) \\times (N_x-2)$, and adding a vector term :\n",
    "\n",
    "$$u^n = Mu^{n+1} + b$$\n",
    "\n",
    "For $N_x = 7$ (for example), this gives :\n",
    "$$\n",
    "M =\\begin{pmatrix}\n",
    "1+2\\alpha & -\\alpha   &           &           &           & \\\\\n",
    "-\\alpha   & 1+2\\alpha & -\\alpha   &           &           & \\\\\n",
    "        & -\\alpha   & 1+2\\alpha & -\\alpha   &           & \\\\\n",
    "        &           & -\\alpha   & 1+2\\alpha & -\\alpha   & \\\\\n",
    "        &           &           & -\\alpha   & 1+2\\alpha & \\\\\n",
    "\n",
    "    \\end{pmatrix}\n",
    "$$\n",
    "\n",
    ",\n",
    "$$\n",
    "b = \\begin{pmatrix}\n",
    "    -\\alpha d_0 \\\\\n",
    "    0 \\\\\n",
    "    0 \\\\\n",
    "    0 \\\\\n",
    "    -\\alpha d_N \\\\\n",
    "\\end{pmatrix}\n",
    "$$\n",
    "\n",
    "You can show this gives the required finite equation for $i=1, (N-1)$, eg. :\n",
    "\n",
    "$$u^n_1 = - \\alpha u^{n+1}_2 + (1 + 2\\alpha)u^{n+1}_1 - \\alpha d_0$$\n",
    "\n",
    "First, write functions that will construct the matrix equation and boundary value term."
   ]
  },
  {
   "cell_type": "code",
   "execution_count": 2,
   "metadata": {
    "tags": []
   },
   "outputs": [
    {
     "name": "stdout",
     "output_type": "stream",
     "text": [
      "[[ 3. -1.  0.  0.  0.]\n",
      " [-1.  3. -1.  0.  0.]\n",
      " [ 0. -1.  3. -1.  0.]\n",
      " [ 0.  0. -1.  3. -1.]\n",
      " [ 0.  0.  0. -1.  3.]]\n",
      "[-1273.     0.     0.     0.  -273.]\n"
     ]
    }
   ],
   "source": [
    "###### Constructing Matrix Equation and boundary value terms. Will have to generalise this to any size matrices of (N-2)x(N-2) -> (why -2?) \n",
    "# Class methods or just functions? \n",
    "# create object for certain metal types\n",
    "# Author - Samuel Hopkins\n",
    "# Date - January/Febuary 2022\n",
    "\n",
    "from scipy import linalg, sparse\n",
    "import numpy as np\n",
    "import matplotlib.pyplot as plt \n",
    "import sys\n",
    "import time\n",
    "\n",
    "\n",
    "class Metal:\n",
    "    \"\"\"\n",
    "    Allows me to assign parameters for an arbitrary metal, and then calculate different quantities from them.\n",
    "    \"\"\"\n",
    "    def __init__(self, Name, lamb, rho, C, L):\n",
    "        self.Name = Name \n",
    "        self.lamb = lamb #thermal conductivity\n",
    "        self.rho = rho  #density\n",
    "        self.C = C      #Specific Heat\n",
    "        self.L = L      #Length\n",
    "        \n",
    "\n",
    "    def thermaldiffusivity(self):\n",
    "        return self.lamb / (self.rho * self.C)\n",
    "        \n",
    "Iron = Metal('Iron', lamb = 59, rho = 7900, C = 450, L = 0.5)\n",
    "\n",
    "class Finite_Difference:\n",
    "\n",
    "    def __init__(self, Name, N, d_0, d_N, tau, h):\n",
    "        self.N = N\n",
    "        self.Name = Name\n",
    "        self.d_0 = d_0\n",
    "        self.d_N = d_N\n",
    "        self.tau = tau\n",
    "        self.h = h #spatial step\n",
    "\n",
    "def MatrixMaker(N, Metal, tau, h,  identity):\n",
    "    if Metal == 'test':\n",
    "        k=1\n",
    "    else:\n",
    "        k = Metal.thermaldiffusivity()\n",
    "\n",
    "    # alpha = (k * FiniteDifference.tau) / (FiniteDifference.h ** 2)\n",
    "    alpha = (k* tau) / (h**2)\n",
    "    if identity is True:\n",
    "        I = sparse.diags([0, 1, 0], [-1, 0, 1], shape = ((N-2, N-2)))\n",
    "        return I\n",
    "\n",
    "    elif identity is False:\n",
    "        M = sparse.diags([-alpha, (1+2*alpha), -alpha], [-1, 0, 1], shape = ((N-2), (N-2)))\n",
    "        return M.toarray()\n",
    "\n",
    "def BoundaryCondition(N: int, bc: str, d_0: float, d_N: float) -> np.ndarray:\n",
    "    alpha = 1\n",
    "    if bc == 'dirichlet':\n",
    "        d_N = 273.0 #kelvin\n",
    "        d_0 = 1273.0\n",
    "        \n",
    "        B = np.zeros(N-2)\n",
    "        B[0] = - alpha * d_0\n",
    "        B[-1] = - alpha * d_N\n",
    "        return B\n",
    "\n",
    "print(MatrixMaker(7, 'test', 1, 1, False ))\n",
    "\n",
    "\n",
    "print(BoundaryCondition(7, 'dirichlet', d_0 = 1273, d_N = 273))\n",
    "\n",
    "\n",
    "\n",
    " "
   ]
  },
  {
   "cell_type": "markdown",
   "metadata": {},
   "source": [
    "Now write a function which will transport the temperature distribution at time step $n$ to time step $n+1$. You will need to use an appropriate linear algebra routine."
   ]
  },
  {
   "cell_type": "code",
   "execution_count": 3,
   "metadata": {},
   "outputs": [],
   "source": [
    "\n",
    "def spatialtransport(N, tau, h, d_0, d_N):\n",
    "    tau = 0.0001; h = 0.0001\n",
    "    u_n = np.zeros((N-2, N-2))\n",
    "    A = MatrixMaker(N, Metal, tau, h, identity=False)\n",
    "    b = BoundaryCondition(N, Metal, d_0, d_N)\n",
    "\n",
    "    u_n1 = linalg.spsolve(A, b)\n",
    "    return u_n1\n"
   ]
  },
  {
   "cell_type": "markdown",
   "metadata": {},
   "source": [
    "Finally, use the functions above to calculate the temperature distribution as a function of time, and display this graphically using an appropriate plotting routine."
   ]
  },
  {
   "cell_type": "code",
   "execution_count": 4,
   "metadata": {},
   "outputs": [],
   "source": [
    "\n",
    "def temporaltransport(N, maxt, Nx):\n",
    "    u_n = np.zeros((N-2, N-2))\n",
    "    for k in range(0, Nx):\n",
    "        u_n[k] = 20\n",
    "    \n",
    "    for _ in range(0, maxt):\n",
    "        b = u_n\n",
    "        b[0] = 1000\n",
    "        b[-1] = 0\n",
    "        u[:] = spatialtransport(N, tau, h, 1000, 0)"
   ]
  },
  {
   "cell_type": "markdown",
   "metadata": {},
   "source": [
    "## Part 2 - Neumann Boundary Conditions\n",
    "\n",
    "Now we assume the far end of the poker from the furnace is no longer held at 0 C, but instead experiences no heat loss. Again your task is to find the tempeterature distribution as a function of time.\n",
    "\n",
    "In this case, you will need to implement a Neumann boundary condition at the end of the poker, to ensure the derivative $\\frac{\\partial u}{\\partial x}$ is zero. Since we are using finite differences, this is equivalent to ensuring the final two noces have the same value.\n",
    "\n",
    "The finite difference equation for node $i=(N-1)$ is :\n",
    "\n",
    "$$u^n_{N-1} = -\\alpha u^{n+1}_{N-2} + (1 + 2\\alpha)u^{n+1}_{N-1} - \\alpha u^{n+1}_{N}$$\n",
    "\n",
    "To enforce the Neumann boundary condition we can substitute $u^{n+1}_{N} = u^{n+1}_{N-1}$, giving :\n",
    "\n",
    "$$u^n_{N-1} = -\\alpha u^{n+1}_{N-2} + (1 + \\alpha)u^{n+1}_{N-1}$$\n",
    "\n",
    "This results in a modified form of $M$, shown here for the example $N_x=7$, and the matrix ix $5\\times5$ :  \n",
    "\\begin{equation}\n",
    "M = \\begin{pmatrix}\n",
    "1+2\\alpha & -\\alpha   &           &           &           & \\\\\n",
    "-\\alpha   & 1+2\\alpha & -\\alpha   &           &           & \\\\\n",
    "          & -\\alpha   & 1+2\\alpha & -\\alpha   &           & \\\\\n",
    "          &           & -\\alpha   & 1+2\\alpha & -\\alpha   & \\\\\n",
    "          &           &           & -\\alpha   & 1+\\alpha & \\\\\n",
    "\\end{pmatrix}\n",
    "\\end{equation}\n",
    "\n",
    "Note that you will also need to include a boundary term vector $b$, since the end of the poker in the furnace still requires a Dirichlet condition.\n",
    "\n",
    "First write any new functions you need. You should be able to re-use some functions from Part 1."
   ]
  },
  {
   "cell_type": "code",
   "execution_count": null,
   "metadata": {},
   "outputs": [],
   "source": []
  },
  {
   "cell_type": "markdown",
   "metadata": {},
   "source": [
    "Finally, use the functions above to calculate the temperature distribution as a function of time, and display this graphically using a sensible plotting function."
   ]
  },
  {
   "cell_type": "code",
   "execution_count": null,
   "metadata": {},
   "outputs": [],
   "source": []
  },
  {
   "cell_type": "markdown",
   "metadata": {},
   "source": [
    "# Part 3\n",
    "\n",
    "In the Markdown cell below, describe how your code solves the problem set. State any equations used in the solution and how they were obtained. Include your reasons for any libraries you used, as well as any particular programming techniques. Explain your choice of any test cases. Finally, state any salient features of the results you obtained. You are not expected to write more than about 250-300 words."
   ]
  },
  {
   "cell_type": "markdown",
   "metadata": {},
   "source": []
  }
 ],
 "metadata": {
  "kernelspec": {
   "display_name": "Python 3",
   "language": "python",
   "name": "python3"
  },
  "language_info": {
   "codemirror_mode": {
    "name": "ipython",
    "version": 3
   },
   "file_extension": ".py",
   "mimetype": "text/x-python",
   "name": "python",
   "nbconvert_exporter": "python",
   "pygments_lexer": "ipython3",
   "version": "3.7.4"
  }
 },
 "nbformat": 4,
 "nbformat_minor": 2
}
