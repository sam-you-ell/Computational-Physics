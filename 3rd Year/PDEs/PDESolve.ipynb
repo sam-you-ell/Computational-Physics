{
 "cells": [
  {
   "cell_type": "markdown",
   "metadata": {},
   "source": [
    "# Exercise 3\n",
    "\n",
    "In this assignment, you will find numerical solutions to the diffusion equation. In particular, you will use an implicit method, and consider problems with both Dirichlet and Neumann boundary conditions.\n",
    "\n",
    "**Remember**\n",
    "   * You are expected to use numpy and scipy libraries where appropriate.  \n",
    "   * You should run each cell in order from the top of the notebook; there is no need to repeat code between cells\n",
    "   * Use the \"refresh kernel\" button to reset everything and start again\n",
    "   * Make sure your notebook runs fully & without errors, from a fresh kernel, before submitting it"
   ]
  },
  {
   "cell_type": "markdown",
   "metadata": {},
   "source": [
    "## Problem Overview\n",
    "\n",
    "The 1D diffusion equation is :\n",
    "\n",
    "$$\\frac{\\partial u}{\\partial t} = k\\frac{\\partial^2 u}{\\partial x^2}$$\n",
    "\n",
    "You should discretize this equation onto $N_x$ space points, with separation $\\Delta x = h$, and into timesteps $\\Delta t = \\tau$.  In the equations below, I use subscript $i$ as a space index, and superscript $n$ for time indices.\n",
    "\n",
    "Having discretized the problem, you should use the _implicit_ finite difference equation, as discussed in lectures :\n",
    "\n",
    "$$\\frac{u_i^{n+1} - u_i^n}{\\tau} = k \\frac{u_{i+1}^{n+1} - 2u_i^{n+1} + u_{i-1}^{n+1}}{h^2}$$\n",
    "\n",
    "This can be written in matrix form $u^n = M u^{n+1}$ using :\n",
    "\n",
    "$$u_i^n = - \\alpha u_{i-1}^{n+1} + (1 + 2\\alpha) u_i^{n+1} - \\alpha u_{i+1}^{n+1}$$\n",
    "\n",
    "where $\\alpha = \\frac{k \\tau}{h^2}$.\n",
    "\n",
    "In the problems below, you are asked to solve the diffusion equation in the context of the heat equation. Here, $k$ is the thermal diffusivity, given by $k = \\frac{\\lambda}{\\rho C}$, where $\\lambda$ is the thermal conductivity, $\\rho$ is the density, and $C$ is the specific heat capacity. The questions below concern an iron poker of length 50cm.  You may take the thermal conductivity of iron to be a constant 59 W/m/K, its specific heat as 450 J/kg/K, and its density as 7,900 kg/m3.  You can ignore heat loss along the length of the poker.\n"
   ]
  },
  {
   "cell_type": "markdown",
   "metadata": {},
   "source": [
    "## Part 1 - Dirichlet Boundary Conditions\n",
    "\n",
    "The poker is initially in equilibrium, at room temperature of 20 C. At time $t = 0$, one end is thrust into a furnace at 1000 C and the other end is held in an ice bath at 0 C. Your task is to calculate the temperature distribution along the poker as a function of time.\n",
    "\n",
    "The fact that the ends of the rod are held at fixed temperatures of 0 C and 1000 C corresponds to a Dirichlet boundary condition.  These can be included in the implicit method as follows.\n",
    "\n",
    "The implicit finite difference equation, above, will allow us to calculate the unknown 'internal' nodes, ie. $0 < i < (N_x-1)$.  However, the boundary nodes, $i=0, N_x$, must have fixed values $d_0, d_N$.  To fix the boundaries, we take the matrix M to be of size $(N_x-2) \\times (N_x-2)$, and adding a vector term :\n",
    "\n",
    "$$u^n = Mu^{n+1} + b$$\n",
    "\n",
    "For $N_x = 7$ (for example), this gives :\n",
    "\n",
    "$$\n",
    "M = \\begin{pmatrix}\n",
    "1+2\\alpha & -\\alpha   &           &           &           & \\\\\n",
    "-\\alpha   & 1+2\\alpha & -\\alpha   &           &           & \\\\\n",
    "          & -\\alpha   & 1+2\\alpha & -\\alpha   &           & \\\\\n",
    "          &           & -\\alpha   & 1+2\\alpha & -\\alpha   & \\\\\n",
    "          &           &           & -\\alpha   & 1+2\\alpha & \\\\\n",
    "\\end{pmatrix}\n",
    "$$\n",
    "\n",
    "$$\n",
    "b = \\begin{pmatrix}\n",
    "-\\alpha d_0 \\\\\n",
    "0 \\\\\n",
    "0 \\\\\n",
    "0 \\\\\n",
    "-\\alpha d_N \\\\\n",
    "\\end{pmatrix}\n",
    "$$\n",
    "\n",
    "You can show this gives the required finite equation for $i=1, (N-1)$, eg. :\n",
    "\n",
    "$$u^n_1 = - \\alpha u^{n+1}_2 + (1 + 2\\alpha)u^{n+1}_1 - \\alpha d_0$$\n",
    "\n",
    "First, write functions that will construct the matrix equation and boundary value term."
   ]
  },
  {
   "cell_type": "code",
   "execution_count": 16,
   "metadata": {
    "tags": []
   },
   "outputs": [
    {
     "name": "stdout",
     "output_type": "stream",
     "text": [
      "Thermal Diffusivity of our Iron rod: 1.659634317862166e-05\n"
     ]
    }
   ],
   "source": [
    "#--------------------------------------------------------------------\n",
    "#Here we construct several key elements of the program such as classes as weel as the two functions that handle the boundary conditions and the main tri-diagonal   (this is done with sparse matrices to save memory and computational power - no need to compute all those zeroes!)\n",
    "#--------------------------------------------------------------------\n",
    "from scipy import sparse\n",
    "import scipy\n",
    "from scipy.sparse.linalg import spsolve\n",
    "import numpy as np\n",
    "import matplotlib.pyplot as plt\n",
    "\n",
    "class Metal:\n",
    "    def __init__(self, llambda: float, rho: float, C: float, L: float):\n",
    "        self.llambda = llambda\n",
    "        self.rho = rho\n",
    "        self.C = C\n",
    "        self.L = L\n",
    "\n",
    "    def thermaldiff(self):\n",
    "        return self.llambda / (self.rho * self.C)\n",
    "    \n",
    "Iron = Metal(llambda = 59, rho = 7900, C = 450, L = 0.5)\n",
    "\n",
    "print(\"Thermal Diffusivity of our Iron rod:\",Iron.thermaldiff())\n",
    "\n",
    "class FiniteDifference:\n",
    "    def __init__(self, N: int, t, x, d_0: float, d_N: float, bc: str):\n",
    "        self.N = N  #Dimension of matrix\n",
    "        self.t = t  #temporal points\n",
    "        self.x = x  #spatial points\n",
    "        self.d_0 = d_0 #temperature at intial space point (x = 0.0)\n",
    "        self.d_N = d_N  #temperature at final space point (x = 0.5)\n",
    "        self.bc = bc #boundary condition statement\n",
    "\n",
    "    def tau(self, t):\n",
    "        return t[1] - t[0]\n",
    "\n",
    "    def h(self, x):\n",
    "        return x[1] - x[0]\n",
    "\n",
    "    def alpha(self, Metal):\n",
    "        k = Metal.thermaldiff()\n",
    "        return (k *  self.tau(self.t)) / (self.h(self.x))**2\n",
    "    \n",
    "    def tridiag(self, Metal, lower, main, upper):\n",
    "        N = self.N \n",
    "        # if self.bc == 'testdirichlet':\n",
    "        #     k = 1 \n",
    "        #     a = 1\n",
    "        #     return sparse.diags([-1 * a, (1 + 2*  a), -1 * a], [-1, 0, 1], shape = ((N-2, N-2))).toarray()\n",
    "\n",
    "        M = sparse.diags(lower, main, upper, shape = ((N-2, N-2)))\n",
    "\n",
    "        \n",
    "        a = self.alpha(Metal)\n",
    "        M = sparse.diags([-1 * a, (1 + 2*  a), -1 * a], [-1, 0, 1], shape = ((N-2, N-2)), format = 'csr')\n",
    "        if self.bc == 'dirichlet':\n",
    "            pass\n",
    "        elif self.bc == 'neumann':\n",
    "            M[-1, -1] = 1 + a\n",
    "        return M\n",
    "\n",
    "\n",
    "    def BoundaryCondition(self, Metal) -> np.ndarray:\n",
    "        a = self.alpha(Metal); N = self.N\n",
    "        if self.bc =='dirichlet':\n",
    "            B = np.zeros(N-2)\n",
    "            B[0] = -a * self.d_0\n",
    "            B[-1] = -a * self.d_N\n",
    "            return B\n",
    "        elif self.bc == 'neumann':\n",
    "            B = np.zeros(N-2)\n",
    "            B[0] = -a * self.d_0\n",
    "            return B\n",
    "        \n",
    "        \n",
    "\n",
    "times = np.linspace (0, 8, 9)\n",
    "points = np.linspace(0, 8, 5)\n",
    "TestMetal = Metal(llambda = 1, rho = 1, C = 1, L = 0.5)\n",
    "TestDirichlet = FiniteDifference(7, times, points, 1000, 0, 'dirichlet')\n",
    "\n",
    "# print('\\n')\n",
    "# print(\"Our test value for alpha:\", TestDirichlet.alpha(TestMetal))\n",
    "# print('\\n')\n",
    "# print(\"Our Test Matrix with Dirichlet BC's:\", \"\\n\",TestDirichlet.tridiag(TestMetal).toarray())\n",
    "# print('\\n')\n",
    "# print(\"Our Test Matrix with Nuemann BC's:\", \"\\n\",TestNeumann.tridiag(TestMetal).toarray())\n",
    "# print('\\n')\n",
    "# print(\"Our Boundary Condition term for Dirichlet BC's :\", TestDirichlet.BoundaryCondition(TestMetal))\n",
    "# print('\\n')\n",
    "\n",
    "\n",
    "# \"All test results look correct from expected forms. Note i used .toarray() here to simply show the matrices in a nicer form than how sparse matrices usually look, i do not use .toarray() in calculations as to save computational power and time - it's more efficient to not calculate all those zeros. \"\n",
    "\n",
    "\n"
   ]
  },
  {
   "cell_type": "markdown",
   "metadata": {},
   "source": [
    "Now write a function which will transport the temperature distribution at time step $n$ to time step $n+1$. You will need to use an appropriate linear algebra routine."
   ]
  },
  {
   "cell_type": "code",
   "execution_count": 17,
   "metadata": {},
   "outputs": [],
   "source": [
    "#--------------------------------------------------------------------\n",
    "#Now we go on to implement the implicit finite difference scheme to transport our temperature distribution along the rod to the next time step using .spsolve\n",
    "#--------------------------------------------------------------------\n",
    "def transport(FiniteDifference, u, Metal):\n",
    "    \"\"\"\n",
    "    Transports the temperature distribution at a time step n to time step n+1. I rearrange the matrix equation here.\n",
    "    \"\"\"\n",
    "    A = FiniteDifference.tridiag(Metal)\n",
    "    b = FiniteDifference.BoundaryCondition(Metal)\n",
    "    B = u - b\n",
    "    u_n1 = spsolve(A, B)\n",
    "    return u_n1\n",
    "    \n"
   ]
  },
  {
   "cell_type": "markdown",
   "metadata": {},
   "source": [
    "Finally, use the functions above to calculate the temperature distribution as a function of time, and display this graphically using an appropriate plotting routine."
   ]
  },
  {
   "cell_type": "code",
   "execution_count": 18,
   "metadata": {
    "tags": []
   },
   "outputs": [
    {
     "name": "stdout",
     "output_type": "stream",
     "text": [
      "[[1000.           20.           20.         ...   20.\n",
      "    20.            0.        ]\n",
      " [1000.          793.73569252  630.88461416 ...    7.53296706\n",
      "     4.20947566    0.        ]\n",
      " [1000.          884.73803539  774.58208514 ...    4.60036561\n",
      "     2.35228499    0.        ]\n",
      " ...\n",
      " [1000.          996.6377675   993.27553696 ...    6.65346338\n",
      "     3.32673071    0.        ]\n",
      " [1000.          996.63780236  993.27560667 ...    6.65353309\n",
      "     3.32676557    0.        ]\n",
      " [1000.          996.63783714  993.27567624 ...    6.65360266\n",
      "     3.32680036    0.        ]]\n"
     ]
    },
    {
     "data": {
      "image/png": "[encoded data removed]",
      "text/plain": [
       "<Figure size 432x288 with 1 Axes>"
      ]
     },
     "metadata": {
      "needs_background": "light"
     },
     "output_type": "display_data"
    }
   ],
   "source": [
    "#--------------------------------------------------------------------\n",
    "#Finally, we implement a simple loop to calculate the temperature distribution for all the time steps, and then plot using matplotlib.\n",
    "#--------------------------------------------------------------------\n",
    "def time_temp(FiniteDifference, T):\n",
    "    grid = np.full((T, FiniteDifference.N), 20.0) # size T x 200\n",
    "    grid[:, 0] = FiniteDifference.d_0\n",
    "    u = np.full(FiniteDifference.N-2, 20.00)\n",
    "    internal = grid[:, 1:FiniteDifference.N-1] \n",
    "    if FiniteDifference.bc == 'dirichlet':\n",
    "        grid[:, -1] = FiniteDifference.d_N\n",
    "        for k in range(1, T):\n",
    "            internal[k, ] = transport(FiniteDifference, u, Iron)\n",
    "            u[:] = internal[k, ]\n",
    "    elif FiniteDifference.bc == 'neumann':\n",
    "        for k in range(1, T):\n",
    "            internal[k, ] = transport(FiniteDifference, u, Iron)\n",
    "            # internal[:, -1] = internal[:, -2]\n",
    "            grid[:, -1] = grid[:, -2]\n",
    "            u[:] = internal[k, ]\n",
    "    return grid\n",
    "\n",
    "Time = 3000\n",
    "numpoints = 300\n",
    "timepoints = 1000\n",
    "ts = np.linspace(0, Time, timepoints)\n",
    "# ts = np.arange(0, T, 100)\n",
    "xs = np.linspace(0, Iron.L, numpoints)\n",
    "\n",
    "Dirichlet = FiniteDifference(numpoints, ts, xs, 1000, 0, 'dirichlet')\n",
    "print(time_temp(Dirichlet, Time))\n",
    "\n",
    "\n",
    "# intensity = np.transpose(time_temp(Implicit, T))\n",
    "\n",
    "def timeplots(k:int, FiniteDifference, T):\n",
    "    timelabel = \"%.0f\"%ts[k]\n",
    "    plt.ylabel('Temperature ($^\\circ$C)')\n",
    "    plt.xlabel('Position on Rod (m)')\n",
    "    plt.plot(xs, time_temp(FiniteDifference, T)[k,:], label = f'Time = {timelabel}s')\n",
    "    plt.legend()\n",
    "# for i in range(0, -1, 10):\n",
    "#     timeplots([i], Dirichlet, Time)\n",
    "timeplots(0, Dirichlet, Time)\n",
    "timeplots(1, Dirichlet, Time)\n",
    "timeplots(50, Dirichlet, Time)\n",
    "timeplots(100, Dirichlet, Time)\n",
    "timeplots(200, Dirichlet, Time)\n",
    "# timeplots(300, Dirichlet, Time)\n",
    "# timeplots(400, Dirichlet, Time)\n",
    "timeplots(-1, Dirichlet, Time)\n",
    "\n",
    "\n"
   ]
  },
  {
   "cell_type": "markdown",
   "metadata": {},
   "source": [
    "## Part 2 - Neumann Boundary Conditions\n",
    "\n",
    "Now we assume the far end of the poker from the furnace is no longer held at 0 C, but instead experiences no heat loss. Again your task is to find the tempeterature distribution as a function of time.\n",
    "\n",
    "In this case, you will need to implement a Neumann boundary condition at the end of the poker, to ensure the derivative $\\frac{\\partial u}{\\partial x}$ is zero. Since we are using finite differences, this is equivalent to ensuring the final two nodes have the same value.\n",
    "\n",
    "The finite difference equation for node $i=(N-1)$ is :\n",
    "\n",
    "$$u^n_{N-1} = -\\alpha u^{n+1}_{N-2} + (1 + 2\\alpha)u^{n+1}_{N-1} - \\alpha u^{n+1}_{N}$$\n",
    "\n",
    "To enforce the Neumann boundary condition we can substitute $u^{n+1}_{N} = u^{n+1}_{N-1}$, giving :\n",
    "\n",
    "$$u^n_{N-1} = -\\alpha u^{n+1}_{N-2} + (1 + \\alpha)u^{n+1}_{N-1}$$\n",
    "\n",
    "This results in a modified form of $M$, shown here for the example $N_x=7$, and the matrix ix $5\\times5$ :  \n",
    "\n",
    "$$\n",
    "M = \\begin{pmatrix}\n",
    "1+2\\alpha & -\\alpha   &           &           &           & \\\\\n",
    "-\\alpha   & 1+2\\alpha & -\\alpha   &           &           & \\\\\n",
    "          & -\\alpha   & 1+2\\alpha & -\\alpha   &           & \\\\\n",
    "          &           & -\\alpha   & 1+2\\alpha & -\\alpha   & \\\\\n",
    "          &           &           & -\\alpha   & 1+\\alpha & \\\\\n",
    "\\end{pmatrix}\n",
    "$$\n",
    "\n",
    "Note that you will also need to include a boundary term vector $b$, since the end of the poker in the furnace still requires a Dirichlet condition.\n",
    "\n",
    "First write any new functions you need. You should be able to re-use some functions from Part 1."
   ]
  },
  {
   "cell_type": "code",
   "execution_count": 19,
   "metadata": {
    "tags": []
   },
   "outputs": [
    {
     "name": "stdout",
     "output_type": "stream",
     "text": [
      "Our Boundary Condition term for Neumann BC's : [-250.    0.    0.    0.    0.]\n",
      "\n",
      " Our Test Matrix for the Neumann Boundary conditions: \n",
      " [[ 1.5  -0.25  0.    0.    0.  ]\n",
      " [-0.25  1.5  -0.25  0.    0.  ]\n",
      " [ 0.   -0.25  1.5  -0.25  0.  ]\n",
      " [ 0.    0.   -0.25  1.5  -0.25]\n",
      " [ 0.    0.    0.   -0.25  1.25]]\n"
     ]
    }
   ],
   "source": [
    "TestNeumann = FiniteDifference(7, times, points, 1000, 20, 'neumann')\n",
    "\n",
    "print(\"Our Boundary Condition term for Neumann BC's :\", TestNeumann.BoundaryCondition(TestMetal))\n",
    "print('\\n', \"Our Test Matrix for the Neumann Boundary conditions:\", \"\\n\",TestNeumann.tridiag(TestMetal).toarray())\n",
    "\n",
    "\n",
    "\n",
    "Newtimes = 10000\n",
    "New_t = np.linspace(0, Newtimes, timepoints)\n",
    "Neumann = FiniteDifference(numpoints, New_t, xs, 1000, 20, 'neumann')\n",
    "\n",
    "\n"
   ]
  },
  {
   "cell_type": "markdown",
   "metadata": {},
   "source": [
    "Finally, use the functions above to calculate the temperature distribution as a function of time, and display this graphically using a sensible plotting function."
   ]
  },
  {
   "cell_type": "code",
   "execution_count": 21,
   "metadata": {},
   "outputs": [
    {
     "data": {
      "image/png": "[encoded data removed]",
      "text/plain": [
       "<Figure size 432x288 with 1 Axes>"
      ]
     },
     "metadata": {
      "needs_background": "light"
     },
     "output_type": "display_data"
    }
   ],
   "source": [
    "\n",
    "# print(time_temp(Neumann, Time))\n",
    "timeplots(0, Neumann, Newtimes)\n",
    "timeplots(250, Neumann, Newtimes)\n",
    "timeplots(200, Neumann, Newtimes)\n",
    "timeplots(999, Neumann, Newtimes)\n",
    "# timeplos(2, Neumann, Time)\n",
    "# timeplots(-1,  Neumann, Time)\n"
   ]
  },
  {
   "cell_type": "code",
   "execution_count": null,
   "metadata": {},
   "outputs": [],
   "source": [
    "###Crank - Nicholson\n",
    "\n"
   ]
  },
  {
   "cell_type": "markdown",
   "metadata": {},
   "source": [
    "# Part 3\n",
    "\n",
    "In the Markdown cell below, describe how your code solves the problem set. State any equations used in the solution and how they were obtained. Include your reasons for any libraries you used, as well as any particular programming techniques. Explain your choice of any test cases. Finally, state any salient features of the results you obtained. You are not expected to write more than about 250-300 words."
   ]
  },
  {
   "cell_type": "markdown",
   "metadata": {},
   "source": []
  }
 ],
 "metadata": {
  "kernelspec": {
   "display_name": "Python 3",
   "language": "python",
   "name": "python3"
  },
  "language_info": {
   "codemirror_mode": {
    "name": "ipython",
    "version": 3
   },
   "file_extension": ".py",
   "mimetype": "text/x-python",
   "name": "python",
   "nbconvert_exporter": "python",
   "pygments_lexer": "ipython3",
   "version": "3.8.3"
  }
 },
 "nbformat": 4,
 "nbformat_minor": 2
}
