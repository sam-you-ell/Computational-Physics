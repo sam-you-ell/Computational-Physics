{
 "cells": [
  {
   "cell_type": "markdown",
   "metadata": {},
   "source": [
    "# Exercise 3\n",
    "\n",
    "In this assignment, you will find numerical solutions to the diffusion equation. In particular, you will use an implicit method, and consider problems with both Dirichlet and Neumann boundary conditions.\n",
    "\n",
    "**Remember**\n",
    "   * You are expected to use numpy and scipy libraries where appropriate.  \n",
    "   * You should run each cell in order from the top of the notebook; there is no need to repeat code between cells\n",
    "   * Use the \"refresh kernel\" button to reset everything and start again\n",
    "   * Make sure your notebook runs fully & without errors, from a fresh kernel, before submitting it"
   ]
  },
  {
   "cell_type": "markdown",
   "metadata": {},
   "source": [
    "## Problem Overview\n",
    "\n",
    "The 1D diffusion equation is :\n",
    "\n",
    "$$\\frac{\\partial u}{\\partial t} = k\\frac{\\partial^2 u}{\\partial x^2}$$\n",
    "\n",
    "You should discretize this equation onto $N_x$ space points, with separation $\\Delta x = h$, and into timesteps $\\Delta t = \\tau$.  In the equations below, I use subscript $i$ as a space index, and superscript $n$ for time indices.\n",
    "\n",
    "Having discretized the problem, you should use the _implicit_ finite difference equation, as discussed in lectures :\n",
    "\n",
    "$$\\frac{u_i^{n+1} - u_i^n}{\\tau} = k \\frac{u_{i+1}^{n+1} - 2u_i^{n+1} + u_{i-1}^{n+1}}{h^2}$$\n",
    "\n",
    "This can be written in matrix form $u^n = M u^{n+1}$ using :\n",
    "\n",
    "$$u_i^n = - \\alpha u_{i-1}^{n+1} + (1 + 2\\alpha) u_i^{n+1} - \\alpha u_{i+1}^{n+1}$$\n",
    "\n",
    "where $\\alpha = \\frac{k \\tau}{h^2}$.\n",
    "\n",
    "In the problems below, you are asked to solve the diffusion equation in the context of the heat equation. Here, $k$ is the thermal diffusivity, given by $k = \\frac{\\lambda}{\\rho C}$, where $\\lambda$ is the thermal conductivity, $\\rho$ is the density, and $C$ is the specific heat capacity. The questions below concern an iron poker of length 50cm.  You may take the thermal conductivity of iron to be a constant 59 W/m/K, its specific heat as 450 J/kg/K, and its density as 7,900 kg/m3.  You can ignore heat loss along the length of the poker.\n"
   ]
  },
  {
   "cell_type": "markdown",
   "metadata": {},
   "source": [
    "## Part 1 - Dirichlet Boundary Conditions\n",
    "\n",
    "The poker is initially in equilibrium, at room temperature of 20 C. At time $t = 0$, one end is thrust into a furnace at 1000 C and the other end is held in an ice bath at 0 C. Your task is to calculate the temperature distribution along the poker as a function of time.\n",
    "\n",
    "The fact that the ends of the rod are held at fixed temperatures of 0 C and 1000 C corresponds to a Dirichlet boundary condition.  These can be included in the implicit method as follows.\n",
    "\n",
    "The implicit finite difference equation, above, will allow us to calculate the unknown 'internal' nodes, ie. $0 < i < (N_x-1)$.  However, the boundary nodes, $i=0, N_x$, must have fixed values $d_0, d_N$.  To fix the boundaries, we take the matrix M to be of size $(N_x-2) \\times (N_x-2)$, and adding a vector term :\n",
    "\n",
    "$$u^n = Mu^{n+1} + b$$\n",
    "\n",
    "For $N_x = 7$ (for example), this gives :\n",
    "\n",
    "$$\n",
    "M = \\begin{pmatrix}\n",
    "1+2\\alpha & -\\alpha   &           &           &           & \\\\\n",
    "-\\alpha   & 1+2\\alpha & -\\alpha   &           &           & \\\\\n",
    "          & -\\alpha   & 1+2\\alpha & -\\alpha   &           & \\\\\n",
    "          &           & -\\alpha   & 1+2\\alpha & -\\alpha   & \\\\\n",
    "          &           &           & -\\alpha   & 1+2\\alpha & \\\\\n",
    "\\end{pmatrix}\n",
    "$$\n",
    "\n",
    "$$\n",
    "b = \\begin{pmatrix}\n",
    "-\\alpha d_0 \\\\\n",
    "0 \\\\\n",
    "0 \\\\\n",
    "0 \\\\\n",
    "-\\alpha d_N \\\\\n",
    "\\end{pmatrix}\n",
    "$$\n",
    "\n",
    "You can show this gives the required finite equation for $i=1, (N-1)$, eg. :\n",
    "\n",
    "$$u^n_1 = - \\alpha u^{n+1}_2 + (1 + 2\\alpha)u^{n+1}_1 - \\alpha d_0$$\n",
    "\n",
    "First, write functions that will construct the matrix equation and boundary value term."
   ]
  },
  {
   "cell_type": "code",
   "execution_count": 3,
   "metadata": {
    "tags": []
   },
   "outputs": [
    {
     "output_type": "stream",
     "name": "stdout",
     "text": "Thermal Diffusivity of our Iron rod: 1.659634317862166e-05\n\n\nOur value for alpha: 0.25\n\n\nOur Test Matrix: \n [[ 1.5  -0.25  0.  ]\n [-0.25  1.5  -0.25]\n [ 0.   -0.25  1.5 ]]\n\n\nOur Boundary Condition term for Dirichlet BC's: [-250.    0.   -0.]\n"
    }
   ],
   "source": [
    "#--------------------------------------------------------------------\n",
    "#Here we construct several key elements of the program such as classes as weel as the two functions that handle the boundary conditions and the main tri-diagonal   (this is done with sparse matrices to save memory and computational power - no need to compute all those zeroes!)\n",
    "#--------------------------------------------------------------------\n",
    "from scipy import sparse\n",
    "from scipy.sparse.linalg import spsolve\n",
    "import numpy as np\n",
    "import matplotlib.pyplot as plt\n",
    "\n",
    "class Metal:\n",
    "    def __init__(self, llambda: float, rho: float, C: float, L: float):\n",
    "        self.llambda = llambda\n",
    "        self.rho = rho\n",
    "        self.C = C\n",
    "        self.L = L\n",
    "\n",
    "    def thermaldiff(self):\n",
    "        return self.llambda / (self.rho * self.C)\n",
    "    \n",
    "Iron = Metal(llambda = 59, rho = 7900, C = 450, L = 0.5)\n",
    "\n",
    "print(\"Thermal Diffusivity of our Iron rod:\",Iron.thermaldiff())\n",
    "\n",
    "class FiniteDifference:\n",
    "    def __init__(self, N, t, x, d_0, d_N):\n",
    "        self.N = N  #Dimenion of matrix\n",
    "        self.t = t  #temporal points\n",
    "        self.x = x  #spatial points\n",
    "        self.d_0 = d_0 #temperature at intial space point (x = 0.0)\n",
    "        self.d_N = d_N  #temperature at final space point (x = 0.5)\n",
    "\n",
    "    def tau(self, t):\n",
    "        return t[1] - t[0]\n",
    "\n",
    "    def h(self, x):\n",
    "        return x[1] - x[0]\n",
    "\n",
    "    def alpha(self, Metal):\n",
    "        if Metal == 'test':\n",
    "            k = 1\n",
    "        else:\n",
    "            k = Metal.thermaldiff()\n",
    "        return (k *  self.tau(self.t)) / (self.h(self.x)**2)\n",
    "    \n",
    "    def MatrixMaker(self, Metal):\n",
    "        N = self.N\n",
    "        if Metal =='test':\n",
    "            k = 1 \n",
    "            a = self.alpha('test')\n",
    "            return sparse.diags([-1 * a, (1 + 2*  a), -1 * a], [-1, 0, 1], shape = ((N-2, N-2))).toarray()\n",
    "        else:\n",
    "            a = self.alpha(Metal)\n",
    "            return sparse.diags([-1 * a, (1 + 2*  a), -1 * a], [-1, 0, 1], shape = ((N-2, N-2)))\n",
    "\n",
    "    def BoundaryCondition(self, bc: str, Metal) -> np.ndarray:\n",
    "        a = self.alpha(Metal)\n",
    "        N = self.N\n",
    "        if bc =='dirichlet':\n",
    "            B = np.zeros(N-2)\n",
    "            B[0] = -a * self.d_0\n",
    "            B[-1] = -a * self.d_N\n",
    "            return B\n",
    "\n",
    "        \n",
    "        \n",
    "\n",
    "\n",
    "\n",
    "times = np.linspace (0, 8, 9)\n",
    "points = np.linspace(0, 8, 5)\n",
    "TestMetal = Metal(llambda = 1, rho = 1, C = 1, L = 0.5)\n",
    "TestMethod = FiniteDifference(5, times, points, 1000, 0)\n",
    "print('\\n')\n",
    "print(\"Our value for alpha:\", TestMethod.alpha('test')) \n",
    "print('\\n')\n",
    "print(\"Our Test Matrix:\", \"\\n\",TestMethod.MatrixMaker('test'))\n",
    "print('\\n')\n",
    "print(\"Our Boundary Condition term for Dirichlet BC's:\", TestMethod.BoundaryCondition('dirichlet', TestMetal))\n",
    "\n"
   ]
  },
  {
   "cell_type": "markdown",
   "metadata": {},
   "source": [
    "Now write a function which will transport the temperature distribution at time step $n$ to time step $n+1$. You will need to use an appropriate linear algebra routine."
   ]
  },
  {
   "cell_type": "code",
   "execution_count": 4,
   "metadata": {},
   "outputs": [],
   "source": [
    "#--------------------------------------------------------------------\n",
    "#Now we go on to implement the implicit finite difference scheme to transport our temperature distribution along the rod to the next time step using .spsolve\n",
    "#--------------------------------------------------------------------\n",
    "def transport(FiniteDifference, u, Metal):\n",
    "    A = FiniteDifference.MatrixMaker(Metal)\n",
    "    b = FiniteDifference.BoundaryCondition('dirichlet', Metal)\n",
    "    B = u - b\n",
    "    u_n1 = spsolve(A, B)\n",
    "    return u_n1\n",
    "\n"
   ]
  },
  {
   "cell_type": "markdown",
   "metadata": {},
   "source": [
    "Finally, use the functions above to calculate the temperature distribution as a function of time, and display this graphically using an appropriate plotting routine."
   ]
  },
  {
   "cell_type": "code",
   "execution_count": 19,
   "metadata": {
    "tags": []
   },
   "outputs": [
    {
     "output_type": "stream",
     "name": "stdout",
     "text": "[994 988 983 977 972 966 960 955 949 944 938 933 927 922 916 911 905 900\n 894 889 883 878 872 867 861 856 850 845 840 834 829 823 818 812 807 802\n 796 791 785 780 775 769 764 759 753 748 743 737 732 727 721 716 711 705\n 700 695 690 684 679 674 669 663 658 653 648 642 637 632 627 622 616 611\n 606 601 596 590 585 580 575 570 565 560 554 549 544 539 534 529 524 519\n 514 509 503 498 493 488 483 478 473 468 463 458 453 448 443 438 433 428\n 423 418 413 408 403 398 393 389 384 379 374 369 364 359 354 349 344 340\n 335 330 325 320 315 310 306 301 296 291 286 282 277 272 267 262 258 253\n 248 243 239 234 229 224 220 215 210 206 201 196 191 187 182 177 173 168\n 163 159 154 149 145 140 136 131 126 122 117 113 108 103  99  94  90  85\n  81  76  71  67  62  58  53  49  44  40  35  31  26  22  17  13   8   4]\n"
    },
    {
     "output_type": "display_data",
     "data": {
      "text/plain": "<Figure size 432x288 with 1 Axes>",
      "image/svg+xml": "<?xml version=\"1.0\" encoding=\"utf-8\" standalone=\"no\"?>\n<!DOCTYPE svg PUBLIC \"-//W3C//DTD SVG 1.1//EN\"\n  \"http://www.w3.org/Graphics/SVG/1.1/DTD/svg11.dtd\">\n<!-- Created with matplotlib (https://matplotlib.org/) -->\n<svg height=\"248.518125pt\" version=\"1.1\" viewBox=\"0 0 381.65 248.518125\" width=\"381.65pt\" xmlns=\"http://www.w3.org/2000/svg\" xmlns:xlink=\"http://www.w3.org/1999/xlink\">\n <metadata>\n  <rdf:RDF xmlns:cc=\"http://creativecommons.org/ns#\" xmlns:dc=\"http://purl.org/dc/elements/1.1/\" xmlns:rdf=\"http://www.w3.org/1999/02/22-rdf-syntax-ns#\">\n   <cc:Work>\n    <dc:type rdf:resource=\"http://purl.org/dc/dcmitype/StillImage\"/>\n    <dc:date>2022-02-02T18:13:32.659362</dc:date>\n    <dc:format>image/svg+xml</dc:format>\n    <dc:creator>\n     <cc:Agent>\n      <dc:title>Matplotlib v3.3.4, https://matplotlib.org/</dc:title>\n     </cc:Agent>\n    </dc:creator>\n   </cc:Work>\n  </rdf:RDF>\n </metadata>\n <defs>\n  <style type=\"text/css\">*{stroke-linecap:butt;stroke-linejoin:round;}</style>\n </defs>\n <g id=\"figure_1\">\n  <g id=\"patch_1\">\n   <path d=\"M -0 248.518125 \nL 381.65 248.518125 \nL 381.65 0 \nL -0 0 \nz\n\" style=\"fill:none;\"/>\n  </g>\n  <g id=\"axes_1\">\n   <g id=\"patch_2\">\n    <path d=\"M 39.65 224.64 \nL 374.45 224.64 \nL 374.45 7.2 \nL 39.65 7.2 \nz\n\" style=\"fill:#ffffff;\"/>\n   </g>\n   <g id=\"matplotlib.axis_1\">\n    <g id=\"xtick_1\">\n     <g id=\"line2d_1\">\n      <defs>\n       <path d=\"M 0 0 \nL 0 3.5 \n\" id=\"m11e827ac72\" style=\"stroke:#000000;stroke-width:0.8;\"/>\n      </defs>\n      <g>\n       <use style=\"stroke:#000000;stroke-width:0.8;\" x=\"54.868182\" xlink:href=\"#m11e827ac72\" y=\"224.64\"/>\n      </g>\n     </g>\n     <g id=\"text_1\">\n      <!-- 0.0 -->\n      <g transform=\"translate(46.916619 239.238437)scale(0.1 -0.1)\">\n       <defs>\n        <path d=\"M 31.78125 66.40625 \nQ 24.171875 66.40625 20.328125 58.90625 \nQ 16.5 51.421875 16.5 36.375 \nQ 16.5 21.390625 20.328125 13.890625 \nQ 24.171875 6.390625 31.78125 6.390625 \nQ 39.453125 6.390625 43.28125 13.890625 \nQ 47.125 21.390625 47.125 36.375 \nQ 47.125 51.421875 43.28125 58.90625 \nQ 39.453125 66.40625 31.78125 66.40625 \nz\nM 31.78125 74.21875 \nQ 44.046875 74.21875 50.515625 64.515625 \nQ 56.984375 54.828125 56.984375 36.375 \nQ 56.984375 17.96875 50.515625 8.265625 \nQ 44.046875 -1.421875 31.78125 -1.421875 \nQ 19.53125 -1.421875 13.0625 8.265625 \nQ 6.59375 17.96875 6.59375 36.375 \nQ 6.59375 54.828125 13.0625 64.515625 \nQ 19.53125 74.21875 31.78125 74.21875 \nz\n\" id=\"DejaVuSans-48\"/>\n        <path d=\"M 10.6875 12.40625 \nL 21 12.40625 \nL 21 0 \nL 10.6875 0 \nz\n\" id=\"DejaVuSans-46\"/>\n       </defs>\n       <use xlink:href=\"#DejaVuSans-48\"/>\n       <use x=\"63.623047\" xlink:href=\"#DejaVuSans-46\"/>\n       <use x=\"95.410156\" xlink:href=\"#DejaVuSans-48\"/>\n      </g>\n     </g>\n    </g>\n    <g id=\"xtick_2\">\n     <g id=\"line2d_2\">\n      <g>\n       <use style=\"stroke:#000000;stroke-width:0.8;\" x=\"115.740909\" xlink:href=\"#m11e827ac72\" y=\"224.64\"/>\n      </g>\n     </g>\n     <g id=\"text_2\">\n      <!-- 0.1 -->\n      <g transform=\"translate(107.789347 239.238437)scale(0.1 -0.1)\">\n       <defs>\n        <path d=\"M 12.40625 8.296875 \nL 28.515625 8.296875 \nL 28.515625 63.921875 \nL 10.984375 60.40625 \nL 10.984375 69.390625 \nL 28.421875 72.90625 \nL 38.28125 72.90625 \nL 38.28125 8.296875 \nL 54.390625 8.296875 \nL 54.390625 0 \nL 12.40625 0 \nz\n\" id=\"DejaVuSans-49\"/>\n       </defs>\n       <use xlink:href=\"#DejaVuSans-48\"/>\n       <use x=\"63.623047\" xlink:href=\"#DejaVuSans-46\"/>\n       <use x=\"95.410156\" xlink:href=\"#DejaVuSans-49\"/>\n      </g>\n     </g>\n    </g>\n    <g id=\"xtick_3\">\n     <g id=\"line2d_3\">\n      <g>\n       <use style=\"stroke:#000000;stroke-width:0.8;\" x=\"176.613636\" xlink:href=\"#m11e827ac72\" y=\"224.64\"/>\n      </g>\n     </g>\n     <g id=\"text_3\">\n      <!-- 0.2 -->\n      <g transform=\"translate(168.662074 239.238437)scale(0.1 -0.1)\">\n       <defs>\n        <path d=\"M 19.1875 8.296875 \nL 53.609375 8.296875 \nL 53.609375 0 \nL 7.328125 0 \nL 7.328125 8.296875 \nQ 12.9375 14.109375 22.625 23.890625 \nQ 32.328125 33.6875 34.8125 36.53125 \nQ 39.546875 41.84375 41.421875 45.53125 \nQ 43.3125 49.21875 43.3125 52.78125 \nQ 43.3125 58.59375 39.234375 62.25 \nQ 35.15625 65.921875 28.609375 65.921875 \nQ 23.96875 65.921875 18.8125 64.3125 \nQ 13.671875 62.703125 7.8125 59.421875 \nL 7.8125 69.390625 \nQ 13.765625 71.78125 18.9375 73 \nQ 24.125 74.21875 28.421875 74.21875 \nQ 39.75 74.21875 46.484375 68.546875 \nQ 53.21875 62.890625 53.21875 53.421875 \nQ 53.21875 48.921875 51.53125 44.890625 \nQ 49.859375 40.875 45.40625 35.40625 \nQ 44.1875 33.984375 37.640625 27.21875 \nQ 31.109375 20.453125 19.1875 8.296875 \nz\n\" id=\"DejaVuSans-50\"/>\n       </defs>\n       <use xlink:href=\"#DejaVuSans-48\"/>\n       <use x=\"63.623047\" xlink:href=\"#DejaVuSans-46\"/>\n       <use x=\"95.410156\" xlink:href=\"#DejaVuSans-50\"/>\n      </g>\n     </g>\n    </g>\n    <g id=\"xtick_4\">\n     <g id=\"line2d_4\">\n      <g>\n       <use style=\"stroke:#000000;stroke-width:0.8;\" x=\"237.486364\" xlink:href=\"#m11e827ac72\" y=\"224.64\"/>\n      </g>\n     </g>\n     <g id=\"text_4\">\n      <!-- 0.3 -->\n      <g transform=\"translate(229.534801 239.238437)scale(0.1 -0.1)\">\n       <defs>\n        <path d=\"M 40.578125 39.3125 \nQ 47.65625 37.796875 51.625 33 \nQ 55.609375 28.21875 55.609375 21.1875 \nQ 55.609375 10.40625 48.1875 4.484375 \nQ 40.765625 -1.421875 27.09375 -1.421875 \nQ 22.515625 -1.421875 17.65625 -0.515625 \nQ 12.796875 0.390625 7.625 2.203125 \nL 7.625 11.71875 \nQ 11.71875 9.328125 16.59375 8.109375 \nQ 21.484375 6.890625 26.8125 6.890625 \nQ 36.078125 6.890625 40.9375 10.546875 \nQ 45.796875 14.203125 45.796875 21.1875 \nQ 45.796875 27.640625 41.28125 31.265625 \nQ 36.765625 34.90625 28.71875 34.90625 \nL 20.21875 34.90625 \nL 20.21875 43.015625 \nL 29.109375 43.015625 \nQ 36.375 43.015625 40.234375 45.921875 \nQ 44.09375 48.828125 44.09375 54.296875 \nQ 44.09375 59.90625 40.109375 62.90625 \nQ 36.140625 65.921875 28.71875 65.921875 \nQ 24.65625 65.921875 20.015625 65.03125 \nQ 15.375 64.15625 9.8125 62.3125 \nL 9.8125 71.09375 \nQ 15.4375 72.65625 20.34375 73.4375 \nQ 25.25 74.21875 29.59375 74.21875 \nQ 40.828125 74.21875 47.359375 69.109375 \nQ 53.90625 64.015625 53.90625 55.328125 \nQ 53.90625 49.265625 50.4375 45.09375 \nQ 46.96875 40.921875 40.578125 39.3125 \nz\n\" id=\"DejaVuSans-51\"/>\n       </defs>\n       <use xlink:href=\"#DejaVuSans-48\"/>\n       <use x=\"63.623047\" xlink:href=\"#DejaVuSans-46\"/>\n       <use x=\"95.410156\" xlink:href=\"#DejaVuSans-51\"/>\n      </g>\n     </g>\n    </g>\n    <g id=\"xtick_5\">\n     <g id=\"line2d_5\">\n      <g>\n       <use style=\"stroke:#000000;stroke-width:0.8;\" x=\"298.359091\" xlink:href=\"#m11e827ac72\" y=\"224.64\"/>\n      </g>\n     </g>\n     <g id=\"text_5\">\n      <!-- 0.4 -->\n      <g transform=\"translate(290.407528 239.238437)scale(0.1 -0.1)\">\n       <defs>\n        <path d=\"M 37.796875 64.3125 \nL 12.890625 25.390625 \nL 37.796875 25.390625 \nz\nM 35.203125 72.90625 \nL 47.609375 72.90625 \nL 47.609375 25.390625 \nL 58.015625 25.390625 \nL 58.015625 17.1875 \nL 47.609375 17.1875 \nL 47.609375 0 \nL 37.796875 0 \nL 37.796875 17.1875 \nL 4.890625 17.1875 \nL 4.890625 26.703125 \nz\n\" id=\"DejaVuSans-52\"/>\n       </defs>\n       <use xlink:href=\"#DejaVuSans-48\"/>\n       <use x=\"63.623047\" xlink:href=\"#DejaVuSans-46\"/>\n       <use x=\"95.410156\" xlink:href=\"#DejaVuSans-52\"/>\n      </g>\n     </g>\n    </g>\n    <g id=\"xtick_6\">\n     <g id=\"line2d_6\">\n      <g>\n       <use style=\"stroke:#000000;stroke-width:0.8;\" x=\"359.231818\" xlink:href=\"#m11e827ac72\" y=\"224.64\"/>\n      </g>\n     </g>\n     <g id=\"text_6\">\n      <!-- 0.5 -->\n      <g transform=\"translate(351.280256 239.238437)scale(0.1 -0.1)\">\n       <defs>\n        <path d=\"M 10.796875 72.90625 \nL 49.515625 72.90625 \nL 49.515625 64.59375 \nL 19.828125 64.59375 \nL 19.828125 46.734375 \nQ 21.96875 47.46875 24.109375 47.828125 \nQ 26.265625 48.1875 28.421875 48.1875 \nQ 40.625 48.1875 47.75 41.5 \nQ 54.890625 34.8125 54.890625 23.390625 \nQ 54.890625 11.625 47.5625 5.09375 \nQ 40.234375 -1.421875 26.90625 -1.421875 \nQ 22.3125 -1.421875 17.546875 -0.640625 \nQ 12.796875 0.140625 7.71875 1.703125 \nL 7.71875 11.625 \nQ 12.109375 9.234375 16.796875 8.0625 \nQ 21.484375 6.890625 26.703125 6.890625 \nQ 35.15625 6.890625 40.078125 11.328125 \nQ 45.015625 15.765625 45.015625 23.390625 \nQ 45.015625 31 40.078125 35.4375 \nQ 35.15625 39.890625 26.703125 39.890625 \nQ 22.75 39.890625 18.8125 39.015625 \nQ 14.890625 38.140625 10.796875 36.28125 \nz\n\" id=\"DejaVuSans-53\"/>\n       </defs>\n       <use xlink:href=\"#DejaVuSans-48\"/>\n       <use x=\"63.623047\" xlink:href=\"#DejaVuSans-46\"/>\n       <use x=\"95.410156\" xlink:href=\"#DejaVuSans-53\"/>\n      </g>\n     </g>\n    </g>\n   </g>\n   <g id=\"matplotlib.axis_2\">\n    <g id=\"ytick_1\">\n     <g id=\"line2d_7\">\n      <defs>\n       <path d=\"M 0 0 \nL -3.5 0 \n\" id=\"mc84fd8f410\" style=\"stroke:#000000;stroke-width:0.8;\"/>\n      </defs>\n      <g>\n       <use style=\"stroke:#000000;stroke-width:0.8;\" x=\"39.65\" xlink:href=\"#mc84fd8f410\" y=\"215.555041\"/>\n      </g>\n     </g>\n     <g id=\"text_7\">\n      <!-- 0 -->\n      <g transform=\"translate(26.2875 219.35426)scale(0.1 -0.1)\">\n       <use xlink:href=\"#DejaVuSans-48\"/>\n      </g>\n     </g>\n    </g>\n    <g id=\"ytick_2\">\n     <g id=\"line2d_8\">\n      <g>\n       <use style=\"stroke:#000000;stroke-width:0.8;\" x=\"39.65\" xlink:href=\"#mc84fd8f410\" y=\"175.621157\"/>\n      </g>\n     </g>\n     <g id=\"text_8\">\n      <!-- 200 -->\n      <g transform=\"translate(13.5625 179.420376)scale(0.1 -0.1)\">\n       <use xlink:href=\"#DejaVuSans-50\"/>\n       <use x=\"63.623047\" xlink:href=\"#DejaVuSans-48\"/>\n       <use x=\"127.246094\" xlink:href=\"#DejaVuSans-48\"/>\n      </g>\n     </g>\n    </g>\n    <g id=\"ytick_3\">\n     <g id=\"line2d_9\">\n      <g>\n       <use style=\"stroke:#000000;stroke-width:0.8;\" x=\"39.65\" xlink:href=\"#mc84fd8f410\" y=\"135.687273\"/>\n      </g>\n     </g>\n     <g id=\"text_9\">\n      <!-- 400 -->\n      <g transform=\"translate(13.5625 139.486491)scale(0.1 -0.1)\">\n       <use xlink:href=\"#DejaVuSans-52\"/>\n       <use x=\"63.623047\" xlink:href=\"#DejaVuSans-48\"/>\n       <use x=\"127.246094\" xlink:href=\"#DejaVuSans-48\"/>\n      </g>\n     </g>\n    </g>\n    <g id=\"ytick_4\">\n     <g id=\"line2d_10\">\n      <g>\n       <use style=\"stroke:#000000;stroke-width:0.8;\" x=\"39.65\" xlink:href=\"#mc84fd8f410\" y=\"95.753388\"/>\n      </g>\n     </g>\n     <g id=\"text_10\">\n      <!-- 600 -->\n      <g transform=\"translate(13.5625 99.552607)scale(0.1 -0.1)\">\n       <defs>\n        <path d=\"M 33.015625 40.375 \nQ 26.375 40.375 22.484375 35.828125 \nQ 18.609375 31.296875 18.609375 23.390625 \nQ 18.609375 15.53125 22.484375 10.953125 \nQ 26.375 6.390625 33.015625 6.390625 \nQ 39.65625 6.390625 43.53125 10.953125 \nQ 47.40625 15.53125 47.40625 23.390625 \nQ 47.40625 31.296875 43.53125 35.828125 \nQ 39.65625 40.375 33.015625 40.375 \nz\nM 52.59375 71.296875 \nL 52.59375 62.3125 \nQ 48.875 64.0625 45.09375 64.984375 \nQ 41.3125 65.921875 37.59375 65.921875 \nQ 27.828125 65.921875 22.671875 59.328125 \nQ 17.53125 52.734375 16.796875 39.40625 \nQ 19.671875 43.65625 24.015625 45.921875 \nQ 28.375 48.1875 33.59375 48.1875 \nQ 44.578125 48.1875 50.953125 41.515625 \nQ 57.328125 34.859375 57.328125 23.390625 \nQ 57.328125 12.15625 50.6875 5.359375 \nQ 44.046875 -1.421875 33.015625 -1.421875 \nQ 20.359375 -1.421875 13.671875 8.265625 \nQ 6.984375 17.96875 6.984375 36.375 \nQ 6.984375 53.65625 15.1875 63.9375 \nQ 23.390625 74.21875 37.203125 74.21875 \nQ 40.921875 74.21875 44.703125 73.484375 \nQ 48.484375 72.75 52.59375 71.296875 \nz\n\" id=\"DejaVuSans-54\"/>\n       </defs>\n       <use xlink:href=\"#DejaVuSans-54\"/>\n       <use x=\"63.623047\" xlink:href=\"#DejaVuSans-48\"/>\n       <use x=\"127.246094\" xlink:href=\"#DejaVuSans-48\"/>\n      </g>\n     </g>\n    </g>\n    <g id=\"ytick_5\">\n     <g id=\"line2d_11\">\n      <g>\n       <use style=\"stroke:#000000;stroke-width:0.8;\" x=\"39.65\" xlink:href=\"#mc84fd8f410\" y=\"55.819504\"/>\n      </g>\n     </g>\n     <g id=\"text_11\">\n      <!-- 800 -->\n      <g transform=\"translate(13.5625 59.618723)scale(0.1 -0.1)\">\n       <defs>\n        <path d=\"M 31.78125 34.625 \nQ 24.75 34.625 20.71875 30.859375 \nQ 16.703125 27.09375 16.703125 20.515625 \nQ 16.703125 13.921875 20.71875 10.15625 \nQ 24.75 6.390625 31.78125 6.390625 \nQ 38.8125 6.390625 42.859375 10.171875 \nQ 46.921875 13.96875 46.921875 20.515625 \nQ 46.921875 27.09375 42.890625 30.859375 \nQ 38.875 34.625 31.78125 34.625 \nz\nM 21.921875 38.8125 \nQ 15.578125 40.375 12.03125 44.71875 \nQ 8.5 49.078125 8.5 55.328125 \nQ 8.5 64.0625 14.71875 69.140625 \nQ 20.953125 74.21875 31.78125 74.21875 \nQ 42.671875 74.21875 48.875 69.140625 \nQ 55.078125 64.0625 55.078125 55.328125 \nQ 55.078125 49.078125 51.53125 44.71875 \nQ 48 40.375 41.703125 38.8125 \nQ 48.828125 37.15625 52.796875 32.3125 \nQ 56.78125 27.484375 56.78125 20.515625 \nQ 56.78125 9.90625 50.3125 4.234375 \nQ 43.84375 -1.421875 31.78125 -1.421875 \nQ 19.734375 -1.421875 13.25 4.234375 \nQ 6.78125 9.90625 6.78125 20.515625 \nQ 6.78125 27.484375 10.78125 32.3125 \nQ 14.796875 37.15625 21.921875 38.8125 \nz\nM 18.3125 54.390625 \nQ 18.3125 48.734375 21.84375 45.5625 \nQ 25.390625 42.390625 31.78125 42.390625 \nQ 38.140625 42.390625 41.71875 45.5625 \nQ 45.3125 48.734375 45.3125 54.390625 \nQ 45.3125 60.0625 41.71875 63.234375 \nQ 38.140625 66.40625 31.78125 66.40625 \nQ 25.390625 66.40625 21.84375 63.234375 \nQ 18.3125 60.0625 18.3125 54.390625 \nz\n\" id=\"DejaVuSans-56\"/>\n       </defs>\n       <use xlink:href=\"#DejaVuSans-56\"/>\n       <use x=\"63.623047\" xlink:href=\"#DejaVuSans-48\"/>\n       <use x=\"127.246094\" xlink:href=\"#DejaVuSans-48\"/>\n      </g>\n     </g>\n    </g>\n    <g id=\"ytick_6\">\n     <g id=\"line2d_12\">\n      <g>\n       <use style=\"stroke:#000000;stroke-width:0.8;\" x=\"39.65\" xlink:href=\"#mc84fd8f410\" y=\"15.88562\"/>\n      </g>\n     </g>\n     <g id=\"text_12\">\n      <!-- 1000 -->\n      <g transform=\"translate(7.2 19.684839)scale(0.1 -0.1)\">\n       <use xlink:href=\"#DejaVuSans-49\"/>\n       <use x=\"63.623047\" xlink:href=\"#DejaVuSans-48\"/>\n       <use x=\"127.246094\" xlink:href=\"#DejaVuSans-48\"/>\n       <use x=\"190.869141\" xlink:href=\"#DejaVuSans-48\"/>\n      </g>\n     </g>\n    </g>\n   </g>\n   <g id=\"line2d_13\">\n    <path clip-path=\"url(#p6e91981866)\" d=\"M 54.868182 17.083636 \nL 56.413175 18.281653 \nL 57.958168 19.28 \nL 59.503161 20.478017 \nL 61.048154 21.476364 \nL 64.13814 23.872397 \nL 65.683133 24.870744 \nL 67.228126 26.06876 \nL 68.77312 27.067107 \nL 70.318113 28.265124 \nL 71.863106 29.263471 \nL 73.408099 30.461488 \nL 74.953092 31.459835 \nL 76.498085 32.657851 \nL 78.043078 33.656198 \nL 79.588071 34.854215 \nL 81.133064 35.852562 \nL 82.678057 37.050579 \nL 84.22305 38.048926 \nL 85.768043 39.246942 \nL 87.313036 40.245289 \nL 88.85803 41.443306 \nL 90.403023 42.441653 \nL 91.948016 43.639669 \nL 93.493009 44.638017 \nL 95.038002 45.836033 \nL 98.127988 47.832727 \nL 99.672981 49.030744 \nL 101.217974 50.029091 \nL 102.762967 51.227107 \nL 104.30796 52.225455 \nL 105.852953 53.423471 \nL 108.94294 55.420165 \nL 110.487933 56.618182 \nL 112.032926 57.616529 \nL 113.577919 58.814545 \nL 116.667905 60.81124 \nL 118.212898 62.009256 \nL 121.302884 64.00595 \nL 122.847877 65.203967 \nL 125.937863 67.200661 \nL 127.482856 68.398678 \nL 130.572843 70.395372 \nL 132.117836 71.593388 \nL 135.207822 73.590083 \nL 136.752815 74.788099 \nL 141.387794 77.78314 \nL 142.932787 78.981157 \nL 147.567766 81.976198 \nL 149.11276 83.174215 \nL 153.747739 86.169256 \nL 155.292732 87.367273 \nL 161.472704 91.360661 \nL 163.017697 92.558678 \nL 169.19767 96.552066 \nL 170.742663 97.750083 \nL 180.012621 103.740165 \nL 181.557614 104.938182 \nL 195.462552 113.923306 \nL 197.007545 115.121322 \nL 230.997393 137.084959 \nL 232.542386 137.883636 \nL 246.447323 146.86876 \nL 247.992317 147.667438 \nL 257.262275 153.657521 \nL 258.807268 154.456198 \nL 264.98724 158.449587 \nL 266.532234 159.248264 \nL 272.712206 163.241653 \nL 274.257199 164.040331 \nL 278.892178 167.035372 \nL 280.437171 167.83405 \nL 285.07215 170.829091 \nL 286.617144 171.627769 \nL 289.70713 173.624463 \nL 291.252123 174.42314 \nL 295.887102 177.418182 \nL 297.432095 178.21686 \nL 300.522081 180.213554 \nL 302.067074 181.012231 \nL 305.15706 183.008926 \nL 306.702054 183.807603 \nL 309.79204 185.804298 \nL 311.337033 186.602975 \nL 312.882026 187.601322 \nL 314.427019 188.4 \nL 317.517005 190.396694 \nL 319.061998 191.195372 \nL 320.606991 192.193719 \nL 322.151984 192.992397 \nL 325.24197 194.989091 \nL 326.786964 195.787769 \nL 328.331957 196.786116 \nL 329.87695 197.584793 \nL 331.421943 198.58314 \nL 332.966936 199.381818 \nL 336.056922 201.378512 \nL 337.601915 202.17719 \nL 339.146908 203.175537 \nL 340.691901 203.974215 \nL 342.236894 204.972562 \nL 343.781887 205.77124 \nL 345.32688 206.769587 \nL 346.871874 207.568264 \nL 348.416867 208.566612 \nL 349.96186 209.365289 \nL 351.506853 210.363636 \nL 353.051846 211.162314 \nL 354.596839 212.160661 \nL 356.141832 212.959339 \nL 357.686825 213.957686 \nL 359.231818 214.756364 \nL 359.231818 214.756364 \n\" style=\"fill:none;stroke:#1f77b4;stroke-linecap:square;stroke-width:1.5;\"/>\n   </g>\n   <g id=\"patch_3\">\n    <path d=\"M 39.65 224.64 \nL 39.65 7.2 \n\" style=\"fill:none;stroke:#000000;stroke-linecap:square;stroke-linejoin:miter;stroke-width:0.8;\"/>\n   </g>\n   <g id=\"patch_4\">\n    <path d=\"M 374.45 224.64 \nL 374.45 7.2 \n\" style=\"fill:none;stroke:#000000;stroke-linecap:square;stroke-linejoin:miter;stroke-width:0.8;\"/>\n   </g>\n   <g id=\"patch_5\">\n    <path d=\"M 39.65 224.64 \nL 374.45 224.64 \n\" style=\"fill:none;stroke:#000000;stroke-linecap:square;stroke-linejoin:miter;stroke-width:0.8;\"/>\n   </g>\n   <g id=\"patch_6\">\n    <path d=\"M 39.65 7.2 \nL 374.45 7.2 \n\" style=\"fill:none;stroke:#000000;stroke-linecap:square;stroke-linejoin:miter;stroke-width:0.8;\"/>\n   </g>\n  </g>\n </g>\n <defs>\n  <clipPath id=\"p6e91981866\">\n   <rect height=\"217.44\" width=\"334.8\" x=\"39.65\" y=\"7.2\"/>\n  </clipPath>\n </defs>\n</svg>\n",
      "image/png": "[encoded data removed]"
     },
     "metadata": {
      "needs_background": "light"
     }
    }
   ],
   "source": [
    "#--------------------------------------------------------------------\n",
    "#Finally, we implement a simple loop to calculate the temperature distribution for all the time steps, and then plot using matplotlib.\n",
    "#--------------------------------------------------------------------\n",
    "def main(FiniteDifference, T:float):\n",
    "    u_n = np.zeros(FiniteDifference.N-2)\n",
    "    u = np.full(FiniteDifference.N-2, 20)\n",
    "    for _ in range(0, T):\n",
    "        u[-1] = 0\n",
    "        u[0] = 1000\n",
    "        u_n[:] = transport(FiniteDifference, u, Iron)\n",
    "        u[:] = u_n \n",
    "    # u[0] = 1000\n",
    "    # u[-1] = 0\n",
    "\n",
    "    return u\n",
    "\n",
    "T = 3600\n",
    "v = np.zeros((98, 1000))\n",
    "ts = np.linspace(0, T, 98)\n",
    "xs = np.linspace(0, Iron.L, 198)\n",
    "Implicit = FiniteDifference(200, ts, xs, 1000, 0)\n",
    "\n",
    "print(main(Implicit, T))\n",
    "\n",
    "\n",
    "\n",
    "plt.plot(xs, main(Implicit, T))\n",
    "plt.show()\n",
    "# print(v)\n",
    "\n",
    "\n",
    "\n",
    "# print(main(Implicit, 1000))\n",
    "\n",
    "# intensity = np.array(main(Implicit, 1000))\n",
    "# plt.pcolormesh(xs, ts, intensity)\n",
    "# plt.show()\n",
    "\n",
    "\n",
    "\n",
    "\n"
   ]
  },
  {
   "cell_type": "markdown",
   "metadata": {},
   "source": [
    "## Part 2 - Neumann Boundary Conditions\n",
    "\n",
    "Now we assume the far end of the poker from the furnace is no longer held at 0 C, but instead experiences no heat loss. Again your task is to find the tempeterature distribution as a function of time.\n",
    "\n",
    "In this case, you will need to implement a Neumann boundary condition at the end of the poker, to ensure the derivative $\\frac{\\partial u}{\\partial x}$ is zero. Since we are using finite differences, this is equivalent to ensuring the final two noces have the same value.\n",
    "\n",
    "The finite difference equation for node $i=(N-1)$ is :\n",
    "\n",
    "$$u^n_{N-1} = -\\alpha u^{n+1}_{N-2} + (1 + 2\\alpha)u^{n+1}_{N-1} - \\alpha u^{n+1}_{N}$$\n",
    "\n",
    "To enforce the Neumann boundary condition we can substitute $u^{n+1}_{N} = u^{n+1}_{N-1}$, giving :\n",
    "\n",
    "$$u^n_{N-1} = -\\alpha u^{n+1}_{N-2} + (1 + \\alpha)u^{n+1}_{N-1}$$\n",
    "\n",
    "This results in a modified form of $M$, shown here for the example $N_x=7$, and the matrix ix $5\\times5$ :  \n",
    "\n",
    "$$\n",
    "M = \\begin{pmatrix}\n",
    "1+2\\alpha & -\\alpha   &           &           &           & \\\\\n",
    "-\\alpha   & 1+2\\alpha & -\\alpha   &           &           & \\\\\n",
    "          & -\\alpha   & 1+2\\alpha & -\\alpha   &           & \\\\\n",
    "          &           & -\\alpha   & 1+2\\alpha & -\\alpha   & \\\\\n",
    "          &           &           & -\\alpha   & 1+\\alpha & \\\\\n",
    "\\end{pmatrix}\n",
    "$$\n",
    "\n",
    "Note that you will also need to include a boundary term vector $b$, since the end of the poker in the furnace still requires a Dirichlet condition.\n",
    "\n",
    "First write any new functions you need. You should be able to re-use some functions from Part 1."
   ]
  },
  {
   "cell_type": "code",
   "execution_count": null,
   "metadata": {},
   "outputs": [],
   "source": []
  },
  {
   "cell_type": "markdown",
   "metadata": {},
   "source": [
    "Finally, use the functions above to calculate the temperature distribution as a function of time, and display this graphically using a sensible plotting function."
   ]
  },
  {
   "cell_type": "code",
   "execution_count": null,
   "metadata": {},
   "outputs": [],
   "source": []
  },
  {
   "cell_type": "markdown",
   "metadata": {},
   "source": [
    "# Part 3\n",
    "\n",
    "In the Markdown cell below, describe how your code solves the problem set. State any equations used in the solution and how they were obtained. Include your reasons for any libraries you used, as well as any particular programming techniques. Explain your choice of any test cases. Finally, state any salient features of the results you obtained. You are not expected to write more than about 250-300 words."
   ]
  },
  {
   "cell_type": "markdown",
   "metadata": {},
   "source": []
  }
 ],
 "metadata": {
  "kernelspec": {
   "display_name": "Python 3",
   "language": "python",
   "name": "python3"
  },
  "language_info": {
   "codemirror_mode": {
    "name": "ipython",
    "version": 3
   },
   "file_extension": ".py",
   "mimetype": "text/x-python",
   "name": "python",
   "nbconvert_exporter": "python",
   "pygments_lexer": "ipython3",
   "version": "3.8.3-final"
  }
 },
 "nbformat": 4,
 "nbformat_minor": 2
}